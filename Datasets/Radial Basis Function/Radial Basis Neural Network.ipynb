{
 "cells": [
  {
   "cell_type": "code",
   "execution_count": 1,
   "metadata": {},
   "outputs": [],
   "source": [
    "from sklearn.metrics import accuracy_score,confusion_matrix\n",
    "from sklearn.model_selection import train_test_split\n",
    "from sklearn.model_selection import train_test_split as sklearn_train_test_split\n",
    "from sklearn.datasets import load_iris\n",
    "from lib.rbfnn import RBF \n",
    "import numpy as np\n",
    "import pandas as pd\n",
    "import matplotlib.pyplot as plt\n",
    "from sklearn.preprocessing import LabelEncoder\n",
    "from sklearn.preprocessing import StandardScaler"
   ]
  },
  {
   "cell_type": "markdown",
   "metadata": {},
   "source": [
    "### Dataset 1"
   ]
  },
  {
   "cell_type": "code",
   "execution_count": 2,
   "metadata": {},
   "outputs": [],
   "source": [
    "from sklearn.datasets import load_iris\n",
    "data=load_iris()"
   ]
  },
  {
   "cell_type": "code",
   "execution_count": 3,
   "metadata": {},
   "outputs": [],
   "source": [
    "x1 = data['data']\n",
    "y1 = data['target']\n",
    "\n",
    "\n",
    "x1_train, x1_test, y1_train, y1_test =sklearn_train_test_split(x1, y1, test_size=0.3, random_state=42)"
   ]
  },
  {
   "cell_type": "code",
   "execution_count": 4,
   "metadata": {},
   "outputs": [
    {
     "name": "stdout",
     "output_type": "stream",
     "text": [
      "accuracy:  0.8\n",
      "confusion_matrix: \n",
      " [[19  0  0]\n",
      " [ 0  4  0]\n",
      " [ 0  9 13]]\n"
     ]
    }
   ],
   "source": [
    "rbf = RBF(6) \n",
    "rbf.fit(x1_train,y1_train)\n",
    "result1 = rbf.predict(x1_test)\n",
    "\n",
    "print('accuracy: ',accuracy_score(result1,y1_test))\n",
    "print('confusion_matrix: \\n',confusion_matrix(result1,y1_test))"
   ]
  },
  {
   "cell_type": "markdown",
   "metadata": {},
   "source": [
    "### Dataset 2"
   ]
  },
  {
   "cell_type": "code",
   "execution_count": 5,
   "metadata": {},
   "outputs": [],
   "source": [
    "Data= pd.read_table(\"bank-full.csv\", sep= None, engine= \"python\")\n",
    "cols= [\"age\",\"balance\",\"day\",\"duration\",\"campaign\",\"pdays\",\"previous\"]"
   ]
  },
  {
   "cell_type": "code",
   "execution_count": 6,
   "metadata": {},
   "outputs": [],
   "source": [
    "data_encode= Data.drop(cols, axis= 1)\n",
    "data_encode= data_encode.apply(LabelEncoder().fit_transform)\n",
    "data_rest= Data[cols]\n",
    "Data= pd.concat([data_rest,data_encode], axis= 1)"
   ]
  },
  {
   "cell_type": "code",
   "execution_count": 7,
   "metadata": {},
   "outputs": [],
   "source": [
    "data_train, data_test= train_test_split(Data, test_size= 0.33, random_state= 4)\n",
    "X2_train= data_train.drop(\"y\", axis= 1)\n",
    "Y2_train= data_train[\"y\"]\n",
    "X2_test= data_test.drop(\"y\", axis=1)\n",
    "Y2_test= data_test[\"y\"]"
   ]
  },
  {
   "cell_type": "code",
   "execution_count": 8,
   "metadata": {},
   "outputs": [],
   "source": [
    "scaler= StandardScaler()\n",
    "scaler.fit(X2_train)\n",
    "X2_train= scaler.transform(X2_train)\n",
    "X2_test= scaler.transform(X2_test)"
   ]
  },
  {
   "cell_type": "code",
   "execution_count": 9,
   "metadata": {},
   "outputs": [
    {
     "name": "stdout",
     "output_type": "stream",
     "text": [
      "accuracy:  0.8895442359249329\n",
      "confusion_matrix: \n",
      " [[13136  1540]\n",
      " [  108   136]]\n"
     ]
    }
   ],
   "source": [
    "rbf = RBF(6) \n",
    "rbf.fit(X2_train,Y2_train)\n",
    "result2 = rbf.predict(X2_test)\n",
    "\n",
    "print('accuracy: ',accuracy_score(result2,Y2_test))\n",
    "print('confusion_matrix: \\n',confusion_matrix(result2,Y2_test))"
   ]
  },
  {
   "cell_type": "markdown",
   "metadata": {},
   "source": [
    "### Dataset 3"
   ]
  },
  {
   "cell_type": "code",
   "execution_count": 10,
   "metadata": {},
   "outputs": [],
   "source": [
    "from sklearn.datasets import load_digits\n",
    "data=load_digits()"
   ]
  },
  {
   "cell_type": "code",
   "execution_count": 11,
   "metadata": {},
   "outputs": [],
   "source": [
    "x3 = data['data']\n",
    "y3 = data['target']"
   ]
  },
  {
   "cell_type": "code",
   "execution_count": 12,
   "metadata": {},
   "outputs": [],
   "source": [
    "from sklearn.model_selection import train_test_split as sklearn_train_test_split\n",
    "x3_train, x3_test, y3_train, y3_test =sklearn_train_test_split(x3, y3, test_size=0.3, random_state=42)"
   ]
  },
  {
   "cell_type": "code",
   "execution_count": 13,
   "metadata": {},
   "outputs": [
    {
     "name": "stdout",
     "output_type": "stream",
     "text": [
      "accuracy:  0.17592592592592593\n",
      "confusion_matrix: \n",
      " [[ 0  0  0  0  0  0  0  0  0  0]\n",
      " [ 0  6  0  0  0  0  0  0  0  0]\n",
      " [ 0  4  0  0  0  0  0  0  0  0]\n",
      " [ 0  3 15  0  9  4  8  0  0  0]\n",
      " [32 30 24 12 46 39 19  7 23 13]\n",
      " [21  7  8 40  5 22 21  8 19 41]\n",
      " [ 0  0  0  2  0  1  5 15  1  5]\n",
      " [ 0  0  0  0  0  0  0 16  0  0]\n",
      " [ 0  0  0  0  0  0  0  9  0  0]\n",
      " [ 0  0  0  0  0  0  0  0  0  0]]\n"
     ]
    }
   ],
   "source": [
    "rbf = RBF(6) \n",
    "rbf.fit(x3_train,y3_train)\n",
    "result3 = rbf.predict(x3_test)\n",
    "\n",
    "print('accuracy: ',accuracy_score(result3,y3_test))\n",
    "print('confusion_matrix: \\n',confusion_matrix(result3,y3_test))"
   ]
  },
  {
   "cell_type": "code",
   "execution_count": null,
   "metadata": {},
   "outputs": [],
   "source": []
  }
 ],
 "metadata": {
  "kernelspec": {
   "display_name": "Python 3",
   "language": "python",
   "name": "python3"
  },
  "language_info": {
   "codemirror_mode": {
    "name": "ipython",
    "version": 3
   },
   "file_extension": ".py",
   "mimetype": "text/x-python",
   "name": "python",
   "nbconvert_exporter": "python",
   "pygments_lexer": "ipython3",
   "version": "3.8.10"
  }
 },
 "nbformat": 4,
 "nbformat_minor": 2
}
