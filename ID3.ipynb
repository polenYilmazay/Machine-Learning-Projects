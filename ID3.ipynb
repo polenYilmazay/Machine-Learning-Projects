{
 "cells": [
  {
   "cell_type": "code",
   "execution_count": 1,
   "metadata": {},
   "outputs": [],
   "source": [
    "import pandas as pd\n",
    "import math as mt\n",
    "from collections import Counter"
   ]
  },
  {
   "cell_type": "code",
   "execution_count": 2,
   "metadata": {},
   "outputs": [
    {
     "name": "stdout",
     "output_type": "stream",
     "text": [
      "    id   outlook temperature humidity    wind play\n",
      "0    1     sunny         hot     high    weak   no\n",
      "1    2     sunny         hot     high  strong   no\n",
      "2    3  overcast        mild   normal    weak  yes\n",
      "3    4     rainy        mild     high    weak  yes\n",
      "4    5     rainy        cool   normal    weak  yes\n",
      "5    6     rainy        cool   normal  strong   no\n",
      "6    7  overcast        cool   normal  strong  yes\n",
      "7    8     sunny        mild     high    weak   no\n",
      "8    9     sunny        cool   normal    weak  yes\n",
      "9   10     rainy        mild   normal    weak  yes\n",
      "10  11     sunny        mild   normal  strong  yes\n",
      "11  12  overcast        mild     high  strong  yes\n",
      "12  13  overcast         hot   normal    weak  yes\n",
      "13  14     rainy        mild     high  strong   no\n"
     ]
    }
   ],
   "source": [
    "df = pd.read_csv(\"Weather - ID3.csv\")\n",
    "print(df)"
   ]
  },
  {
   "cell_type": "code",
   "execution_count": 3,
   "metadata": {},
   "outputs": [],
   "source": [
    "def entropy(probs):\n",
    "    return sum([-prob * mt.log(prob, 2) for prob in probs])\n",
    "def entropy_of_list(a_list):\n",
    "    cnt = Counter(x for x in a_list)\n",
    "    num_instances = len(a_list)\n",
    "    probs = [x/num_instances for x in cnt.values()]\n",
    "    return entropy(probs)"
   ]
  },
  {
   "cell_type": "code",
   "execution_count": 4,
   "metadata": {},
   "outputs": [],
   "source": [
    "def information_gain(df, split_attribute_name, target_attribute_name, trace=0):\n",
    "    # split data by possible vals of attribute\n",
    "    df_split = df.groupby(split_attribute_name)\n",
    "    # proportion of Obs in Each data_split\n",
    "    nobs = len(df.index)\n",
    "    df_agg_ent = df_split.agg({target_attribute_name: [entropy_of_list, lambda x: len(x) / nobs]})[\n",
    "        target_attribute_name]\n",
    "    df_agg_ent.columns = ['Entropy', 'PropObservations']\n",
    "    # Calculate Information Gain:\n",
    "    new_entropy = sum(df_agg_ent['Entropy'] * df_agg_ent['PropObservations'])\n",
    "    old_entropy = entropy_of_list(df[target_attribute_name])\n",
    "    return old_entropy - new_entropy"
   ]
  },
  {
   "cell_type": "code",
   "execution_count": 5,
   "metadata": {},
   "outputs": [],
   "source": [
    "def id3_algorithm(df, target_attribute_name, attribute_names, default_class=None):\n",
    "    cnt = Counter(x for x in df[target_attribute_name])\n",
    "    if len(cnt) == 1:\n",
    "        return next(iter(cnt))\n",
    "    elif df.empty or (not attribute_names):\n",
    "        return default_class\n",
    "    else:\n",
    "        # Get Default Value for next recursive call of this function:\n",
    "        default_class = max(cnt.keys())\n",
    "        # Compute the information gain of the attribute:\n",
    "        gainz = [information_gain(df, attr, target_attribute_name) for attr in attribute_names]\n",
    "        # index of best attribute\n",
    "        index_of_max = gainz.index(max(gainz))\n",
    "        # choose best attribute to split on\n",
    "        best_attr = attribute_names[index_of_max]\n",
    "        # create an empty tree, to be populated in a moment\n",
    "        # Iniiate the tree with best attribute as a node\n",
    "        tree = {best_attr: {}}\n",
    "        remaining_attribute_names = [i for i in attribute_names if i != best_attr]\n",
    "        # Split dataset\n",
    "        # On each split, recursively call this algorithm.\n",
    "        # populate the empty tree with subtrees, which\n",
    "        # are the result of the recursive call\n",
    "        for attr_val, data_subset in df.groupby(best_attr):\n",
    "            subtree = id3_algorithm(data_subset, target_attribute_name, remaining_attribute_names, default_class)\n",
    "            tree[best_attr][attr_val] = subtree\n",
    "        return tree"
   ]
  },
  {
   "cell_type": "code",
   "execution_count": 6,
   "metadata": {},
   "outputs": [],
   "source": [
    "def classify(instance, tree, default=None):\n",
    "    \n",
    "    attribute = next(iter(tree))\n",
    "    if instance[attribute] in tree[attribute].keys():  \n",
    "        result = tree[attribute][instance[attribute]]\n",
    "        if isinstance(result, dict):  \n",
    "            return classify(instance, result)\n",
    "        else:\n",
    "            return result \n",
    "    else:\n",
    "        return default"
   ]
  },
  {
   "cell_type": "code",
   "execution_count": 7,
   "metadata": {},
   "outputs": [
    {
     "name": "stdout",
     "output_type": "stream",
     "text": [
      "Total Entropy of PlayTennis Data Set: 0.9402859586706309\n"
     ]
    }
   ],
   "source": [
    "total_entropy = entropy_of_list(df['play'])\n",
    "print(\"Total Entropy of PlayTennis Data Set:\",total_entropy)"
   ]
  },
  {
   "cell_type": "code",
   "execution_count": 8,
   "metadata": {},
   "outputs": [
    {
     "name": "stdout",
     "output_type": "stream",
     "text": [
      "Info-gain for Outlook is :0.2467498197744391 \n",
      "\n",
      "Info-gain for Humidity is: 0.23612234796179465 \n",
      "\n",
      "Info-gain for Wind is:0.04812703040826927 \n",
      "\n",
      "Info-gain for Temperature is:0.08015424581588682 \n",
      "\n"
     ]
    }
   ],
   "source": [
    "print('Info-gain for Outlook is :'+str( information_gain(df, 'outlook', 'play')),\"\\n\")\n",
    "print('Info-gain for Humidity is: ' + str( information_gain(df, 'humidity', 'play')),\"\\n\")\n",
    "print('Info-gain for Wind is:' + str( information_gain(df, 'wind', 'play')),\"\\n\")\n",
    "print('Info-gain for Temperature is:' + str( information_gain(df, 'temperature','play')),\"\\n\")"
   ]
  },
  {
   "cell_type": "code",
   "execution_count": 9,
   "metadata": {},
   "outputs": [
    {
     "name": "stdout",
     "output_type": "stream",
     "text": [
      "List of Attributes: ['id', 'outlook', 'temperature', 'humidity', 'wind', 'play']\n",
      "Predicting Attributes: ['outlook', 'temperature', 'humidity', 'wind']\n",
      "Decision tree:\n",
      " {'outlook': {'overcast': 'yes', 'rainy': {'wind': {'strong': 'no', 'weak': 'yes'}}, 'sunny': {'humidity': {'high': 'no', 'normal': 'yes'}}}}\n"
     ]
    }
   ],
   "source": [
    "attribute_names = list(df.columns)\n",
    "print(\"List of Attributes:\", attribute_names)\n",
    "\n",
    "attribute_names.remove('play')\n",
    "attribute_names.remove('id')\n",
    "print(\"Predicting Attributes:\", attribute_names)\n",
    "\n",
    "tree = id3_algorithm(df, 'play', attribute_names)\n",
    "print(\"Decision tree:\\n\",tree)"
   ]
  },
  {
   "cell_type": "code",
   "execution_count": 10,
   "metadata": {},
   "outputs": [
    {
     "name": "stdout",
     "output_type": "stream",
     "text": [
      "Decision tree predict:\n",
      "0      no\n",
      "1      no\n",
      "2     yes\n",
      "3     yes\n",
      "4     yes\n",
      "5      no\n",
      "6     yes\n",
      "7      no\n",
      "8     yes\n",
      "9     yes\n",
      "10    yes\n",
      "11    yes\n",
      "12    yes\n",
      "13     no\n",
      "Name: Predicted, dtype: object\n",
      "\n",
      " Accuracy is:\n",
      "1.0\n"
     ]
    },
    {
     "data": {
      "text/html": [
       "<div>\n",
       "<style scoped>\n",
       "    .dataframe tbody tr th:only-of-type {\n",
       "        vertical-align: middle;\n",
       "    }\n",
       "\n",
       "    .dataframe tbody tr th {\n",
       "        vertical-align: top;\n",
       "    }\n",
       "\n",
       "    .dataframe thead th {\n",
       "        text-align: right;\n",
       "    }\n",
       "</style>\n",
       "<table border=\"1\" class=\"dataframe\">\n",
       "  <thead>\n",
       "    <tr style=\"text-align: right;\">\n",
       "      <th></th>\n",
       "      <th>play</th>\n",
       "      <th>Predicted</th>\n",
       "    </tr>\n",
       "  </thead>\n",
       "  <tbody>\n",
       "    <tr>\n",
       "      <th>0</th>\n",
       "      <td>no</td>\n",
       "      <td>no</td>\n",
       "    </tr>\n",
       "    <tr>\n",
       "      <th>1</th>\n",
       "      <td>no</td>\n",
       "      <td>no</td>\n",
       "    </tr>\n",
       "    <tr>\n",
       "      <th>2</th>\n",
       "      <td>yes</td>\n",
       "      <td>yes</td>\n",
       "    </tr>\n",
       "    <tr>\n",
       "      <th>3</th>\n",
       "      <td>yes</td>\n",
       "      <td>yes</td>\n",
       "    </tr>\n",
       "    <tr>\n",
       "      <th>4</th>\n",
       "      <td>yes</td>\n",
       "      <td>yes</td>\n",
       "    </tr>\n",
       "    <tr>\n",
       "      <th>5</th>\n",
       "      <td>no</td>\n",
       "      <td>no</td>\n",
       "    </tr>\n",
       "    <tr>\n",
       "      <th>6</th>\n",
       "      <td>yes</td>\n",
       "      <td>yes</td>\n",
       "    </tr>\n",
       "    <tr>\n",
       "      <th>7</th>\n",
       "      <td>no</td>\n",
       "      <td>no</td>\n",
       "    </tr>\n",
       "    <tr>\n",
       "      <th>8</th>\n",
       "      <td>yes</td>\n",
       "      <td>yes</td>\n",
       "    </tr>\n",
       "    <tr>\n",
       "      <th>9</th>\n",
       "      <td>yes</td>\n",
       "      <td>yes</td>\n",
       "    </tr>\n",
       "    <tr>\n",
       "      <th>10</th>\n",
       "      <td>yes</td>\n",
       "      <td>yes</td>\n",
       "    </tr>\n",
       "    <tr>\n",
       "      <th>11</th>\n",
       "      <td>yes</td>\n",
       "      <td>yes</td>\n",
       "    </tr>\n",
       "    <tr>\n",
       "      <th>12</th>\n",
       "      <td>yes</td>\n",
       "      <td>yes</td>\n",
       "    </tr>\n",
       "    <tr>\n",
       "      <th>13</th>\n",
       "      <td>no</td>\n",
       "      <td>no</td>\n",
       "    </tr>\n",
       "  </tbody>\n",
       "</table>\n",
       "</div>"
      ],
      "text/plain": [
       "   play Predicted\n",
       "0    no        no\n",
       "1    no        no\n",
       "2   yes       yes\n",
       "3   yes       yes\n",
       "4   yes       yes\n",
       "5    no        no\n",
       "6   yes       yes\n",
       "7    no        no\n",
       "8   yes       yes\n",
       "9   yes       yes\n",
       "10  yes       yes\n",
       "11  yes       yes\n",
       "12  yes       yes\n",
       "13   no        no"
      ]
     },
     "execution_count": 10,
     "metadata": {},
     "output_type": "execute_result"
    }
   ],
   "source": [
    "print(\"Decision tree predict:\")\n",
    "df['Predicted'] = df.apply(classify, axis=1, args=(tree, 'No'))\n",
    "print(df['Predicted'])\n",
    "print('\\n Accuracy is:\\n' + str( sum(df['play']==df['Predicted'] ) / (1.0*len(df.index)) ))\n",
    "df[['play', 'Predicted']]"
   ]
  },
  {
   "cell_type": "code",
   "execution_count": 11,
   "metadata": {},
   "outputs": [
    {
     "name": "stdout",
     "output_type": "stream",
     "text": [
      "\n",
      "\n",
      " Accuracy is : 0.75\n"
     ]
    },
    {
     "name": "stderr",
     "output_type": "stream",
     "text": [
      "<ipython-input-11-55063baa613a>:4: SettingWithCopyWarning: \n",
      "A value is trying to be set on a copy of a slice from a DataFrame.\n",
      "Try using .loc[row_indexer,col_indexer] = value instead\n",
      "\n",
      "See the caveats in the documentation: http://pandas.pydata.org/pandas-docs/stable/user_guide/indexing.html#returning-a-view-versus-a-copy\n",
      "  test_data['predicted2'] = test_data.apply(\n"
     ]
    }
   ],
   "source": [
    "training_data = df.iloc[1:10]\n",
    "test_data  = df.iloc[-4:]\n",
    "train_tree = id3_algorithm(training_data, 'play', attribute_names)\n",
    "test_data['predicted2'] = test_data.apply(                               \n",
    "                                          classify, \n",
    "                                          axis=1, \n",
    "                                          args=(train_tree,'Yes') ) \n",
    "\n",
    "\n",
    "print ('\\n\\n Accuracy is : ' + str( sum(test_data['play']==test_data['predicted2'] ) / (1.0*len(test_data.index)) ))"
   ]
  },
  {
   "cell_type": "code",
   "execution_count": null,
   "metadata": {},
   "outputs": [],
   "source": []
  }
 ],
 "metadata": {
  "kernelspec": {
   "display_name": "Python 3",
   "language": "python",
   "name": "python3"
  },
  "language_info": {
   "codemirror_mode": {
    "name": "ipython",
    "version": 3
   },
   "file_extension": ".py",
   "mimetype": "text/x-python",
   "name": "python",
   "nbconvert_exporter": "python",
   "pygments_lexer": "ipython3",
   "version": "3.8.10"
  }
 },
 "nbformat": 4,
 "nbformat_minor": 4
}
