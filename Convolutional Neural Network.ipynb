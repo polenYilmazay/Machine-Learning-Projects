{
 "cells": [
  {
   "cell_type": "code",
   "execution_count": 1,
   "metadata": {},
   "outputs": [],
   "source": [
    "from keras.datasets import mnist\n",
    "from keras.models import Sequential\n",
    "from keras.layers import Dense, Dropout, Conv2D, MaxPool2D, Flatten\n",
    "from keras.utils import np_utils\n",
    "from sklearn.metrics import accuracy_score\n",
    "from keras.datasets import cifar10\n",
    "import matplotlib.pyplot as plt"
   ]
  },
  {
   "cell_type": "markdown",
   "metadata": {},
   "source": [
    "## Dataset 1"
   ]
  },
  {
   "cell_type": "code",
   "execution_count": 2,
   "metadata": {},
   "outputs": [],
   "source": [
    "(X1_train, y1_train), (X1_test, y1_test) = mnist.load_data()"
   ]
  },
  {
   "cell_type": "code",
   "execution_count": 3,
   "metadata": {},
   "outputs": [],
   "source": [
    "X1_train = X1_train.reshape(X1_train.shape[0], 28, 28, 1)\n",
    "X1_test = X1_test.reshape(X1_test.shape[0], 28, 28, 1)\n",
    "X1_train = X1_train.astype('float32')\n",
    "X1_test = X1_test.astype('float32')"
   ]
  },
  {
   "cell_type": "code",
   "execution_count": 4,
   "metadata": {},
   "outputs": [],
   "source": [
    "X1_train /= 255\n",
    "X1_test /= 255"
   ]
  },
  {
   "cell_type": "code",
   "execution_count": 5,
   "metadata": {},
   "outputs": [
    {
     "name": "stdout",
     "output_type": "stream",
     "text": [
      "Shape before one-hot encoding:  (60000,)\n",
      "Shape after one-hot encoding:  (60000, 10)\n"
     ]
    }
   ],
   "source": [
    "n1_classes = 10\n",
    "print(\"Shape before one-hot encoding: \", y1_train.shape)\n",
    "Y1_train = np_utils.to_categorical(y1_train, n1_classes)\n",
    "Y1_test = np_utils.to_categorical(y1_test, n1_classes)\n",
    "print(\"Shape after one-hot encoding: \", Y1_train.shape)"
   ]
  },
  {
   "cell_type": "code",
   "execution_count": 18,
   "metadata": {},
   "outputs": [],
   "source": [
    "model = Sequential()\n",
    "model.add(Conv2D(25, kernel_size=(3,3), strides=(1,1), padding='valid', activation='relu', input_shape=(28,28,1)))\n",
    "model.add(MaxPool2D(pool_size=(1,1)))\n",
    "model.add(Flatten())\n",
    "model.add(Dense(100, activation='relu'))\n",
    "model.add(Dense(10, activation='softmax'))\n",
    "\n",
    "model.compile(loss='categorical_crossentropy', metrics=['accuracy'], optimizer='adam')"
   ]
  },
  {
   "cell_type": "code",
   "execution_count": 30,
   "metadata": {},
   "outputs": [
    {
     "name": "stdout",
     "output_type": "stream",
     "text": [
      "Epoch 1/10\n",
      "469/469 [==============================] - 29s 62ms/step - loss: 0.0078 - accuracy: 0.9975 - val_loss: 0.0688 - val_accuracy: 0.9832\n",
      "Epoch 2/10\n",
      "469/469 [==============================] - 29s 62ms/step - loss: 0.0032 - accuracy: 0.9989 - val_loss: 0.0792 - val_accuracy: 0.9823\n",
      "Epoch 3/10\n",
      "469/469 [==============================] - 29s 62ms/step - loss: 0.0023 - accuracy: 0.9994 - val_loss: 0.0667 - val_accuracy: 0.9855\n",
      "Epoch 4/10\n",
      "469/469 [==============================] - 29s 62ms/step - loss: 0.0028 - accuracy: 0.9992 - val_loss: 0.0655 - val_accuracy: 0.9851\n",
      "Epoch 5/10\n",
      "469/469 [==============================] - 29s 62ms/step - loss: 0.0032 - accuracy: 0.9991 - val_loss: 0.0769 - val_accuracy: 0.9828\n",
      "Epoch 6/10\n",
      "469/469 [==============================] - 29s 62ms/step - loss: 0.0021 - accuracy: 0.9994 - val_loss: 0.0867 - val_accuracy: 0.9815\n",
      "Epoch 7/10\n",
      "469/469 [==============================] - 31s 67ms/step - loss: 0.0010 - accuracy: 0.9998 - val_loss: 0.0887 - val_accuracy: 0.9816\n",
      "Epoch 8/10\n",
      "469/469 [==============================] - 30s 64ms/step - loss: 0.0031 - accuracy: 0.9991 - val_loss: 0.0758 - val_accuracy: 0.9832\n",
      "Epoch 9/10\n",
      "469/469 [==============================] - 32s 68ms/step - loss: 0.0034 - accuracy: 0.9990 - val_loss: 0.0773 - val_accuracy: 0.9831\n",
      "Epoch 10/10\n",
      "469/469 [==============================] - 30s 64ms/step - loss: 0.0036 - accuracy: 0.9987 - val_loss: 0.0798 - val_accuracy: 0.9841\n"
     ]
    }
   ],
   "source": [
    "history1=model.fit(X1_train, Y1_train, batch_size=128, epochs=10, validation_data=(X1_test, Y1_test))"
   ]
  },
  {
   "cell_type": "code",
   "execution_count": 31,
   "metadata": {},
   "outputs": [
    {
     "name": "stdout",
     "output_type": "stream",
     "text": [
      "79/79 [==============================] - 1s 13ms/step - loss: 0.0798 - accuracy: 0.9841\n",
      "Summary: Loss over the test dataset: 0.08, Accuracy: 0.98\n"
     ]
    }
   ],
   "source": [
    "evaluation = model.evaluate(X1_test, Y1_test, batch_size=128, verbose=1)\n",
    "print('Summary: Loss over the test dataset: %.2f, Accuracy: %.2f' % (evaluation[0], evaluation[1]))"
   ]
  },
  {
   "cell_type": "code",
   "execution_count": 34,
   "metadata": {},
   "outputs": [
    {
     "data": {
      "image/png": "[encoded data removed]",
      "text/plain": [
       "<Figure size 432x288 with 2 Axes>"
      ]
     },
     "metadata": {
      "needs_background": "light"
     },
     "output_type": "display_data"
    }
   ],
   "source": [
    "plt.figure(1)  \n",
    "   \n",
    "plt.subplot(211)  \n",
    "plt.plot(history1.history['accuracy'])  \n",
    "plt.plot(history1.history['val_accuracy'])  \n",
    "plt.title('model accuracy')  \n",
    "plt.ylabel('accuracy')  \n",
    "plt.xlabel('epoch')  \n",
    "plt.legend(['train', 'test'], loc='upper left')  \n",
    "   \n",
    "   \n",
    "plt.subplot(212)  \n",
    "plt.plot(history1.history['loss'])  \n",
    "plt.plot(history1.history['val_loss'])  \n",
    "plt.title('model loss')  \n",
    "plt.ylabel('loss')  \n",
    "plt.xlabel('epoch')  \n",
    "plt.legend(['train', 'test'], loc='upper left')  \n",
    "plt.show()"
   ]
  },
  {
   "cell_type": "markdown",
   "metadata": {},
   "source": [
    "## Dataset 2"
   ]
  },
  {
   "cell_type": "code",
   "execution_count": 22,
   "metadata": {},
   "outputs": [],
   "source": [
    "(X2_train, y2_train), (X2_test, y2_test) = cifar10.load_data()"
   ]
  },
  {
   "cell_type": "code",
   "execution_count": 23,
   "metadata": {},
   "outputs": [],
   "source": [
    "X2_train = X2_train.reshape(X2_train.shape[0], 32, 32, 3)\n",
    "X2_test = X2_test.reshape(X2_test.shape[0], 32, 32, 3)\n",
    "X2_train = X2_train.astype('float32')\n",
    "X2_test = X2_test.astype('float32')"
   ]
  },
  {
   "cell_type": "code",
   "execution_count": 24,
   "metadata": {},
   "outputs": [],
   "source": [
    "X2_train /= 255\n",
    "X2_test /= 255"
   ]
  },
  {
   "cell_type": "code",
   "execution_count": 25,
   "metadata": {},
   "outputs": [
    {
     "name": "stdout",
     "output_type": "stream",
     "text": [
      "Shape before one-hot encoding:  (50000, 1)\n",
      "Shape after one-hot encoding:  (50000, 10)\n"
     ]
    }
   ],
   "source": [
    "n2_classes = 10\n",
    "print(\"Shape before one-hot encoding: \", y2_train.shape)\n",
    "Y2_train = np_utils.to_categorical(y2_train, n2_classes)\n",
    "Y2_test = np_utils.to_categorical(y2_test, n2_classes)\n",
    "print(\"Shape after one-hot encoding: \", Y2_train.shape)"
   ]
  },
  {
   "cell_type": "code",
   "execution_count": 27,
   "metadata": {},
   "outputs": [],
   "source": [
    "classify = Sequential()\n",
    "classify.add(Conv2D(50, kernel_size=(3,3), strides=(1,1), padding='same', activation='relu', input_shape=(32, 32, 3)))\n",
    "\n",
    "classify.add(Conv2D(75, kernel_size=(3,3), strides=(1,1), padding='same', activation='relu'))\n",
    "classify.add(MaxPool2D(pool_size=(2,2)))\n",
    "classify.add(Dropout(0.25))\n",
    "\n",
    "classify.add(Conv2D(125, kernel_size=(3,3), strides=(1,1), padding='same', activation='relu'))\n",
    "classify.add(MaxPool2D(pool_size=(2,2)))\n",
    "classify.add(Dropout(0.25))\n",
    "\n",
    "classify.add(Flatten())\n",
    "\n",
    "classify.add(Dense(500, activation='relu'))\n",
    "classify.add(Dropout(0.4))\n",
    "classify.add(Dense(250, activation='relu'))\n",
    "classify.add(Dropout(0.3))\n",
    "\n",
    "classify.add(Dense(10, activation='softmax'))\n",
    "\n",
    "classify.compile(loss='categorical_crossentropy', metrics=['accuracy'], optimizer='adam')"
   ]
  },
  {
   "cell_type": "code",
   "execution_count": 35,
   "metadata": {},
   "outputs": [
    {
     "name": "stdout",
     "output_type": "stream",
     "text": [
      "Epoch 1/10\n",
      "391/391 [==============================] - 310s 793ms/step - loss: 0.8187 - accuracy: 0.7139 - val_loss: 0.7677 - val_accuracy: 0.7325\n",
      "Epoch 2/10\n",
      "391/391 [==============================] - 296s 758ms/step - loss: 0.7384 - accuracy: 0.7423 - val_loss: 0.7176 - val_accuracy: 0.7506\n",
      "Epoch 3/10\n",
      "391/391 [==============================] - 291s 744ms/step - loss: 0.6727 - accuracy: 0.7659 - val_loss: 0.6958 - val_accuracy: 0.7573\n",
      "Epoch 4/10\n",
      "391/391 [==============================] - 303s 775ms/step - loss: 0.6176 - accuracy: 0.7827 - val_loss: 0.6663 - val_accuracy: 0.7704\n",
      "Epoch 5/10\n",
      "391/391 [==============================] - 304s 779ms/step - loss: 0.5674 - accuracy: 0.8002 - val_loss: 0.6548 - val_accuracy: 0.7789\n",
      "Epoch 6/10\n",
      "391/391 [==============================] - 306s 784ms/step - loss: 0.5285 - accuracy: 0.8136 - val_loss: 0.6434 - val_accuracy: 0.7772\n",
      "Epoch 7/10\n",
      "391/391 [==============================] - 301s 771ms/step - loss: 0.4875 - accuracy: 0.8282 - val_loss: 0.6643 - val_accuracy: 0.7728\n",
      "Epoch 8/10\n",
      "391/391 [==============================] - 316s 810ms/step - loss: 0.4623 - accuracy: 0.8374 - val_loss: 0.6476 - val_accuracy: 0.7789\n",
      "Epoch 9/10\n",
      "391/391 [==============================] - 310s 793ms/step - loss: 0.4349 - accuracy: 0.8460 - val_loss: 0.6650 - val_accuracy: 0.7811\n",
      "Epoch 10/10\n",
      "391/391 [==============================] - 320s 819ms/step - loss: 0.4118 - accuracy: 0.8544 - val_loss: 0.6641 - val_accuracy: 0.7858\n"
     ]
    },
    {
     "data": {
      "text/plain": [
       "<tensorflow.python.keras.callbacks.History at 0x25a9cfe84f0>"
      ]
     },
     "execution_count": 35,
     "metadata": {},
     "output_type": "execute_result"
    }
   ],
   "source": [
    "classify.fit(X2_train, Y2_train, batch_size=128, epochs=10, validation_data=(X2_test, Y2_test))"
   ]
  },
  {
   "cell_type": "code",
   "execution_count": 40,
   "metadata": {},
   "outputs": [
    {
     "name": "stdout",
     "output_type": "stream",
     "text": [
      "79/79 [==============================] - 15s 193ms/step - loss: 0.6641 - accuracy: 0.7858\n",
      "Summary: Loss over the test dataset: 0.66, Accuracy: 0.79\n"
     ]
    }
   ],
   "source": [
    "evaluation = classify.evaluate(X2_test, Y2_test, batch_size=128, verbose=1)\n",
    "print('Summary: Loss over the test dataset: %.2f, Accuracy: %.2f' % (evaluation[0], evaluation[1]))"
   ]
  }
 ],
 "metadata": {
  "kernelspec": {
   "display_name": "Python 3",
   "language": "python",
   "name": "python3"
  },
  "language_info": {
   "codemirror_mode": {
    "name": "ipython",
    "version": 3
   },
   "file_extension": ".py",
   "mimetype": "text/x-python",
   "name": "python",
   "nbconvert_exporter": "python",
   "pygments_lexer": "ipython3",
   "version": "3.8.10"
  }
 },
 "nbformat": 4,
 "nbformat_minor": 4
}
