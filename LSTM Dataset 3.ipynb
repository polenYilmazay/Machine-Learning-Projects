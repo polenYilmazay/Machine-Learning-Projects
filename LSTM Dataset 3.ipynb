{
 "cells": [
  {
   "cell_type": "code",
   "execution_count": 1,
   "id": "e7982824",
   "metadata": {},
   "outputs": [],
   "source": [
    "import os\n",
    "import re\n",
    "import numpy as np\n",
    "import matplotlib.pyplot as plt\n",
    "import seaborn as sns; sns.set()\n",
    "from nltk.tokenize import word_tokenize\n",
    "from nltk.corpus import stopwords\n",
    "from sklearn.preprocessing import OneHotEncoder\n",
    "from sklearn.model_selection import train_test_split\n",
    "from sklearn.metrics import confusion_matrix\n",
    "from keras.preprocessing import sequence\n",
    "from keras.preprocessing.text import Tokenizer\n",
    "from keras.models import Sequential\n",
    "from keras.layers import Dense, LSTM\n",
    "from keras.layers.embeddings import Embedding\n",
    "from tensorflow.compat.v1 import ConfigProto\n",
    "from tensorflow.compat.v1 import InteractiveSession\n",
    "\n",
    "config = ConfigProto()\n",
    "config.gpu_options.allow_growth = True\n",
    "session = InteractiveSession(config=config)"
   ]
  },
  {
   "cell_type": "code",
   "execution_count": 2,
   "id": "95a6d72d",
   "metadata": {},
   "outputs": [],
   "source": [
    "def read_files(path):\n",
    "    file_contents = list()\n",
    "    filenames = os.listdir(path)\n",
    "    \n",
    "    for i in range(len(filenames)):\n",
    "        with open(path+filenames[i]) as f:\n",
    "            file_contents.append(f.read())\n",
    "    \n",
    "    return file_contents"
   ]
  },
  {
   "cell_type": "code",
   "execution_count": 3,
   "id": "10019b05",
   "metadata": {},
   "outputs": [],
   "source": [
    "class_0 = read_files('20news-18828/comp.graphics/')\n",
    "class_1 = read_files('20news-18828/rec.motorcycles/')"
   ]
  },
  {
   "cell_type": "code",
   "execution_count": 4,
   "id": "e45ff671",
   "metadata": {},
   "outputs": [],
   "source": [
    "labels = ['comp.graphics', 'rec.motorcycles']"
   ]
  },
  {
   "cell_type": "code",
   "execution_count": 5,
   "id": "fb7a9aff",
   "metadata": {},
   "outputs": [],
   "source": [
    "all_texts = np.append(class_0, class_1)"
   ]
  },
  {
   "cell_type": "code",
   "execution_count": 6,
   "id": "6e6b9b19",
   "metadata": {},
   "outputs": [],
   "source": [
    "stop_words = set(stopwords.words('english'))\n",
    "def clean(text):\n",
    "    text = text.lower()\n",
    "    text = re.sub('<[^>]*>', '', text)\n",
    "    text = re.sub('\\S*@\\S*\\s?', '', text)\n",
    "    text = re.sub('https?://[A-Za-z0-9]','',text)\n",
    "    text = re.sub('[^a-zA-Z]',' ',text)\n",
    "    word_tokens = word_tokenize(text)    \n",
    "    filtered_sentence = []\n",
    "    for word_token in word_tokens:\n",
    "        if word_token not in stop_words:\n",
    "            filtered_sentence.append(word_token)\n",
    "    \n",
    "    text = (' '.join(filtered_sentence))\n",
    "    return text"
   ]
  },
  {
   "cell_type": "code",
   "execution_count": 7,
   "id": "e44ef9a8",
   "metadata": {},
   "outputs": [],
   "source": [
    "all_cleaned_texts = np.array([clean(text) for text in all_texts])"
   ]
  },
  {
   "cell_type": "code",
   "execution_count": 8,
   "id": "e3738b6e",
   "metadata": {},
   "outputs": [],
   "source": [
    "tokenizer = Tokenizer()\n",
    "tokenizer.fit_on_texts(all_cleaned_texts)"
   ]
  },
  {
   "cell_type": "code",
   "execution_count": 9,
   "id": "fc7bd198",
   "metadata": {},
   "outputs": [
    {
     "data": {
      "text/plain": [
       "20200"
      ]
     },
     "execution_count": 9,
     "metadata": {},
     "output_type": "execute_result"
    }
   ],
   "source": [
    "len(tokenizer.word_index)"
   ]
  },
  {
   "cell_type": "code",
   "execution_count": 10,
   "id": "f522d78e",
   "metadata": {},
   "outputs": [
    {
     "name": "stderr",
     "output_type": "stream",
     "text": [
      "<ipython-input-10-f9ff0a1669d7>:2: VisibleDeprecationWarning: Creating an ndarray from ragged nested sequences (which is a list-or-tuple of lists-or-tuples-or ndarrays with different lengths or shapes) is deprecated. If you meant to do this, you must specify 'dtype=object' when creating the ndarray\n",
      "  all_encoded_texts = np.array(all_encoded_texts)\n"
     ]
    }
   ],
   "source": [
    "all_encoded_texts = tokenizer.texts_to_sequences(all_cleaned_texts)\n",
    "all_encoded_texts = np.array(all_encoded_texts)"
   ]
  },
  {
   "cell_type": "code",
   "execution_count": 11,
   "id": "643ba7df",
   "metadata": {},
   "outputs": [],
   "source": [
    "all_encoded_texts = sequence.pad_sequences(all_encoded_texts, maxlen=500)"
   ]
  },
  {
   "cell_type": "code",
   "execution_count": 12,
   "id": "482cf51f",
   "metadata": {},
   "outputs": [],
   "source": [
    "labels_0 = np.array([0] * len(class_0))\n",
    "labels_1 = np.array([1] * len(class_1))"
   ]
  },
  {
   "cell_type": "code",
   "execution_count": 13,
   "id": "df8ec82b",
   "metadata": {},
   "outputs": [],
   "source": [
    "all_labels = np.append(labels_0, labels_1)"
   ]
  },
  {
   "cell_type": "code",
   "execution_count": 14,
   "id": "ff957b57",
   "metadata": {},
   "outputs": [],
   "source": [
    "all_labels = all_labels[:, np.newaxis]\n",
    "one_hot_encoder = OneHotEncoder(sparse=False)\n",
    "all_labels = one_hot_encoder.fit_transform(all_labels)"
   ]
  },
  {
   "cell_type": "code",
   "execution_count": 30,
   "id": "d2ec9ad1",
   "metadata": {},
   "outputs": [],
   "source": [
    "X_train, X_test, y_train, y_test = train_test_split(all_encoded_texts, all_labels, test_size=0.2, random_state=11)"
   ]
  },
  {
   "cell_type": "code",
   "execution_count": 54,
   "id": "4393c464",
   "metadata": {},
   "outputs": [],
   "source": [
    "model = Sequential()\n",
    "model.add(Embedding(input_dim=20201, output_dim=32, input_length=500))\n",
    "model.add(LSTM(100))\n",
    "model.add(Dense(2, activation='sigmoid'))"
   ]
  },
  {
   "cell_type": "code",
   "execution_count": 55,
   "id": "ce754ec8",
   "metadata": {},
   "outputs": [],
   "source": [
    "model.compile(loss='categorical_crossentropy', \n",
    "              optimizer='adam', \n",
    "              metrics=['accuracy'])"
   ]
  },
  {
   "cell_type": "code",
   "execution_count": 56,
   "id": "47d737ef",
   "metadata": {},
   "outputs": [
    {
     "name": "stdout",
     "output_type": "stream",
     "text": [
      "Epoch 1/15\n",
      "25/25 [==============================] - 24s 955ms/step - loss: 0.6704 - accuracy: 0.5719 - val_loss: 0.5943 - val_accuracy: 0.6193\n",
      "Epoch 2/15\n",
      "25/25 [==============================] - 22s 887ms/step - loss: 0.3897 - accuracy: 0.8728 - val_loss: 0.2261 - val_accuracy: 0.9670\n",
      "Epoch 3/15\n",
      "25/25 [==============================] - 23s 902ms/step - loss: 0.9051 - accuracy: 0.6317 - val_loss: 0.6937 - val_accuracy: 0.4645\n",
      "Epoch 4/15\n",
      "25/25 [==============================] - 23s 901ms/step - loss: 0.6785 - accuracy: 0.5324 - val_loss: 0.6892 - val_accuracy: 0.4645\n",
      "Epoch 5/15\n",
      "25/25 [==============================] - 22s 896ms/step - loss: 0.6782 - accuracy: 0.5324 - val_loss: 0.6887 - val_accuracy: 0.4645\n",
      "Epoch 6/15\n",
      "25/25 [==============================] - 22s 897ms/step - loss: 0.6748 - accuracy: 0.5324 - val_loss: 0.6869 - val_accuracy: 0.4645\n",
      "Epoch 7/15\n",
      "25/25 [==============================] - 22s 881ms/step - loss: 0.6617 - accuracy: 0.5324 - val_loss: 0.6875 - val_accuracy: 0.4645\n",
      "Epoch 8/15\n",
      "25/25 [==============================] - 23s 920ms/step - loss: 0.6354 - accuracy: 0.5324 - val_loss: 0.6431 - val_accuracy: 0.4645\n",
      "Epoch 9/15\n",
      "25/25 [==============================] - 22s 881ms/step - loss: 0.3365 - accuracy: 0.8410 - val_loss: 0.1424 - val_accuracy: 0.9721\n",
      "Epoch 10/15\n",
      "25/25 [==============================] - 22s 899ms/step - loss: 0.1570 - accuracy: 0.9796 - val_loss: 0.1973 - val_accuracy: 0.9467\n",
      "Epoch 11/15\n",
      "25/25 [==============================] - 22s 875ms/step - loss: 0.0501 - accuracy: 0.9936 - val_loss: 0.0621 - val_accuracy: 0.9873\n",
      "Epoch 12/15\n",
      "25/25 [==============================] - 23s 917ms/step - loss: 0.0145 - accuracy: 0.9994 - val_loss: 0.0625 - val_accuracy: 0.9822\n",
      "Epoch 13/15\n",
      "25/25 [==============================] - 22s 885ms/step - loss: 0.0081 - accuracy: 0.9994 - val_loss: 0.0393 - val_accuracy: 0.9898\n",
      "Epoch 14/15\n",
      "25/25 [==============================] - 22s 893ms/step - loss: 0.0230 - accuracy: 0.9911 - val_loss: 0.1606 - val_accuracy: 0.9492\n",
      "Epoch 15/15\n",
      "25/25 [==============================] - 22s 893ms/step - loss: 0.0286 - accuracy: 0.9962 - val_loss: 0.0401 - val_accuracy: 0.9848\n"
     ]
    }
   ],
   "source": [
    "history = model.fit(X_train, y_train, epochs=15, batch_size=64, validation_data=(X_test, y_test))"
   ]
  },
  {
   "cell_type": "code",
   "execution_count": 57,
   "id": "252107d0",
   "metadata": {},
   "outputs": [],
   "source": [
    "predictions = model.predict(X_test)\n",
    "predictions = one_hot_encoder.inverse_transform(predictions)"
   ]
  },
  {
   "cell_type": "code",
   "execution_count": 58,
   "id": "aa1ae976",
   "metadata": {},
   "outputs": [],
   "source": [
    "y_test_evaluate = np.argmax(y_test, axis=1)"
   ]
  },
  {
   "cell_type": "code",
   "execution_count": 59,
   "id": "69ad5f36",
   "metadata": {},
   "outputs": [
    {
     "name": "stdout",
     "output_type": "stream",
     "text": [
      "Accuracy: 98.477155\n"
     ]
    }
   ],
   "source": [
    "loss, accuracy = model.evaluate(X_test, y_test, verbose=0)\n",
    "print('Accuracy: %f' % (accuracy*100))"
   ]
  },
  {
   "cell_type": "code",
   "execution_count": 60,
   "id": "e38277e0",
   "metadata": {},
   "outputs": [],
   "source": [
    "cm = confusion_matrix(y_test_evaluate, predictions)"
   ]
  },
  {
   "cell_type": "code",
   "execution_count": 61,
   "id": "703f37e0",
   "metadata": {},
   "outputs": [
    {
     "data": {
      "image/png": "[encoded data removed]",
      "text/plain": [
       "<Figure size 576x576 with 1 Axes>"
      ]
     },
     "metadata": {},
     "output_type": "display_data"
    }
   ],
   "source": [
    "plt.figure(figsize=(8,8))\n",
    "plt.title('Confusion matrix on test data')\n",
    "sns.heatmap(cm, annot=True, fmt='d', xticklabels=labels, yticklabels=labels, cmap=plt.cm.Blues, cbar=False, annot_kws={'size':14})\n",
    "plt.xlabel('Predicted Label')\n",
    "plt.ylabel('True Label')\n",
    "plt.show()"
   ]
  },
  {
   "cell_type": "code",
   "execution_count": null,
   "id": "36effc73",
   "metadata": {},
   "outputs": [],
   "source": []
  }
 ],
 "metadata": {
  "kernelspec": {
   "display_name": "Python 3",
   "language": "python",
   "name": "python3"
  },
  "language_info": {
   "codemirror_mode": {
    "name": "ipython",
    "version": 3
   },
   "file_extension": ".py",
   "mimetype": "text/x-python",
   "name": "python",
   "nbconvert_exporter": "python",
   "pygments_lexer": "ipython3",
   "version": "3.8.10"
  }
 },
 "nbformat": 4,
 "nbformat_minor": 5
}
