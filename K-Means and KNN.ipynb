{
 "cells": [
  {
   "cell_type": "code",
   "execution_count": 1,
   "metadata": {},
   "outputs": [],
   "source": [
    "import numpy as np\n",
    "import pandas as pd\n",
    "import matplotlib.pyplot as plt\n",
    "import seaborn as sns\n",
    "sns.set()\n",
    "from sklearn.cluster import KMeans\n",
    "import itertools\n",
    "from matplotlib.ticker import NullFormatter\n",
    "import matplotlib.ticker as ticker\n",
    "from sklearn import preprocessing"
   ]
  },
  {
   "cell_type": "code",
   "execution_count": 28,
   "metadata": {},
   "outputs": [
    {
     "data": {
      "text/html": [
       "<div>\n",
       "<style scoped>\n",
       "    .dataframe tbody tr th:only-of-type {\n",
       "        vertical-align: middle;\n",
       "    }\n",
       "\n",
       "    .dataframe tbody tr th {\n",
       "        vertical-align: top;\n",
       "    }\n",
       "\n",
       "    .dataframe thead th {\n",
       "        text-align: right;\n",
       "    }\n",
       "</style>\n",
       "<table border=\"1\" class=\"dataframe\">\n",
       "  <thead>\n",
       "    <tr style=\"text-align: right;\">\n",
       "      <th></th>\n",
       "      <th>CustomerID</th>\n",
       "      <th>Age</th>\n",
       "      <th>Annual Income (k$)</th>\n",
       "      <th>Spending Score (1-100)</th>\n",
       "    </tr>\n",
       "  </thead>\n",
       "  <tbody>\n",
       "    <tr>\n",
       "      <th>0</th>\n",
       "      <td>1</td>\n",
       "      <td>19</td>\n",
       "      <td>15</td>\n",
       "      <td>39</td>\n",
       "    </tr>\n",
       "    <tr>\n",
       "      <th>1</th>\n",
       "      <td>2</td>\n",
       "      <td>21</td>\n",
       "      <td>15</td>\n",
       "      <td>81</td>\n",
       "    </tr>\n",
       "    <tr>\n",
       "      <th>2</th>\n",
       "      <td>3</td>\n",
       "      <td>20</td>\n",
       "      <td>16</td>\n",
       "      <td>6</td>\n",
       "    </tr>\n",
       "    <tr>\n",
       "      <th>3</th>\n",
       "      <td>4</td>\n",
       "      <td>23</td>\n",
       "      <td>16</td>\n",
       "      <td>77</td>\n",
       "    </tr>\n",
       "    <tr>\n",
       "      <th>4</th>\n",
       "      <td>5</td>\n",
       "      <td>31</td>\n",
       "      <td>17</td>\n",
       "      <td>40</td>\n",
       "    </tr>\n",
       "    <tr>\n",
       "      <th>...</th>\n",
       "      <td>...</td>\n",
       "      <td>...</td>\n",
       "      <td>...</td>\n",
       "      <td>...</td>\n",
       "    </tr>\n",
       "    <tr>\n",
       "      <th>195</th>\n",
       "      <td>196</td>\n",
       "      <td>35</td>\n",
       "      <td>120</td>\n",
       "      <td>79</td>\n",
       "    </tr>\n",
       "    <tr>\n",
       "      <th>196</th>\n",
       "      <td>197</td>\n",
       "      <td>45</td>\n",
       "      <td>126</td>\n",
       "      <td>28</td>\n",
       "    </tr>\n",
       "    <tr>\n",
       "      <th>197</th>\n",
       "      <td>198</td>\n",
       "      <td>32</td>\n",
       "      <td>126</td>\n",
       "      <td>74</td>\n",
       "    </tr>\n",
       "    <tr>\n",
       "      <th>198</th>\n",
       "      <td>199</td>\n",
       "      <td>32</td>\n",
       "      <td>137</td>\n",
       "      <td>18</td>\n",
       "    </tr>\n",
       "    <tr>\n",
       "      <th>199</th>\n",
       "      <td>200</td>\n",
       "      <td>30</td>\n",
       "      <td>137</td>\n",
       "      <td>83</td>\n",
       "    </tr>\n",
       "  </tbody>\n",
       "</table>\n",
       "<p>200 rows × 4 columns</p>\n",
       "</div>"
      ],
      "text/plain": [
       "     CustomerID  Age  Annual Income (k$)  Spending Score (1-100)\n",
       "0             1   19                  15                      39\n",
       "1             2   21                  15                      81\n",
       "2             3   20                  16                       6\n",
       "3             4   23                  16                      77\n",
       "4             5   31                  17                      40\n",
       "..          ...  ...                 ...                     ...\n",
       "195         196   35                 120                      79\n",
       "196         197   45                 126                      28\n",
       "197         198   32                 126                      74\n",
       "198         199   32                 137                      18\n",
       "199         200   30                 137                      83\n",
       "\n",
       "[200 rows x 4 columns]"
      ]
     },
     "execution_count": 28,
     "metadata": {},
     "output_type": "execute_result"
    }
   ],
   "source": [
    "data=pd.read_csv('Mall_Customers - KNN and KMeans.csv')\n",
    "data"
   ]
  },
  {
   "cell_type": "code",
   "execution_count": 29,
   "metadata": {},
   "outputs": [
    {
     "data": {
      "text/plain": [
       "<function matplotlib.pyplot.show(*args, **kw)>"
      ]
     },
     "execution_count": 29,
     "metadata": {},
     "output_type": "execute_result"
    },
    {
     "data": {
      "image/png": "[encoded data removed]",
      "text/plain": [
       "<Figure size 432x288 with 1 Axes>"
      ]
     },
     "metadata": {},
     "output_type": "display_data"
    }
   ],
   "source": [
    "plt.scatter(data['Annual Income (k$)'],data['Spending Score (1-100)'])\n",
    "plt.xlabel('Annual Income (k$)')\n",
    "plt.ylabel('Spending Score (1-100)')\n",
    "plt.show"
   ]
  },
  {
   "cell_type": "code",
   "execution_count": 30,
   "metadata": {},
   "outputs": [],
   "source": [
    "x=data.copy()"
   ]
  },
  {
   "cell_type": "code",
   "execution_count": 31,
   "metadata": {},
   "outputs": [
    {
     "data": {
      "text/plain": [
       "KMeans(n_clusters=5)"
      ]
     },
     "execution_count": 31,
     "metadata": {},
     "output_type": "execute_result"
    }
   ],
   "source": [
    "kmeans=KMeans(5)\n",
    "kmeans.fit(x)"
   ]
  },
  {
   "cell_type": "code",
   "execution_count": 32,
   "metadata": {},
   "outputs": [],
   "source": [
    "clusters=x.copy()\n",
    "clusters['cluster_pred']=kmeans.fit_predict(x)"
   ]
  },
  {
   "cell_type": "code",
   "execution_count": 33,
   "metadata": {},
   "outputs": [
    {
     "data": {
      "text/plain": [
       "<function matplotlib.pyplot.show(*args, **kw)>"
      ]
     },
     "execution_count": 33,
     "metadata": {},
     "output_type": "execute_result"
    },
    {
     "data": {
      "image/png": "[encoded data removed]",
      "text/plain": [
       "<Figure size 432x288 with 1 Axes>"
      ]
     },
     "metadata": {},
     "output_type": "display_data"
    }
   ],
   "source": [
    "plt.scatter(clusters['Annual Income (k$)'],clusters['Spending Score (1-100)'],c=clusters['cluster_pred'],cmap='rainbow')\n",
    "plt.xlabel('Annual Income (k$)')\n",
    "plt.ylabel('Spending Score (1-100)')\n",
    "plt.show"
   ]
  },
  {
   "cell_type": "code",
   "execution_count": 34,
   "metadata": {},
   "outputs": [
    {
     "data": {
      "text/plain": [
       "array([[-1.7234121 , -1.42456879, -1.73899919, -0.43480148],\n",
       "       [-1.70609137, -1.28103541, -1.73899919,  1.19570407],\n",
       "       [-1.68877065, -1.3528021 , -1.70082976, -1.71591298],\n",
       "       [-1.67144992, -1.13750203, -1.70082976,  1.04041783],\n",
       "       [-1.6541292 , -0.56336851, -1.66266033, -0.39597992],\n",
       "       [-1.63680847, -1.20926872, -1.66266033,  1.00159627],\n",
       "       [-1.61948775, -0.27630176, -1.62449091, -1.71591298],\n",
       "       [-1.60216702, -1.13750203, -1.62449091,  1.70038436],\n",
       "       [-1.5848463 ,  1.80493225, -1.58632148, -1.83237767],\n",
       "       [-1.56752558, -0.6351352 , -1.58632148,  0.84631002],\n",
       "       [-1.55020485,  2.02023231, -1.58632148, -1.4053405 ],\n",
       "       [-1.53288413, -0.27630176, -1.58632148,  1.89449216],\n",
       "       [-1.5155634 ,  1.37433211, -1.54815205, -1.36651894],\n",
       "       [-1.49824268, -1.06573534, -1.54815205,  1.04041783],\n",
       "       [-1.48092195, -0.13276838, -1.54815205, -1.44416206],\n",
       "       [-1.46360123, -1.20926872, -1.54815205,  1.11806095],\n",
       "       [-1.4462805 , -0.27630176, -1.50998262, -0.59008772],\n",
       "       [-1.42895978, -1.3528021 , -1.50998262,  0.61338066],\n",
       "       [-1.41163905,  0.94373197, -1.43364376, -0.82301709],\n",
       "       [-1.39431833, -0.27630176, -1.43364376,  1.8556706 ],\n",
       "       [-1.3769976 , -0.27630176, -1.39547433, -0.59008772],\n",
       "       [-1.35967688, -0.99396865, -1.39547433,  0.88513158],\n",
       "       [-1.34235616,  0.51313183, -1.3573049 , -1.75473454],\n",
       "       [-1.32503543, -0.56336851, -1.3573049 ,  0.88513158],\n",
       "       [-1.30771471,  1.08726535, -1.24279661, -1.4053405 ],\n",
       "       [-1.29039398, -0.70690189, -1.24279661,  1.23452563],\n",
       "       [-1.27307326,  0.44136514, -1.24279661, -0.7065524 ],\n",
       "       [-1.25575253, -0.27630176, -1.24279661,  0.41927286],\n",
       "       [-1.23843181,  0.08253169, -1.20462718, -0.74537397],\n",
       "       [-1.22111108, -1.13750203, -1.20462718,  1.42863343],\n",
       "       [-1.20379036,  1.51786549, -1.16645776, -1.7935561 ],\n",
       "       [-1.18646963, -1.28103541, -1.16645776,  0.88513158],\n",
       "       [-1.16914891,  1.01549866, -1.05194947, -1.7935561 ],\n",
       "       [-1.15182818, -1.49633548, -1.05194947,  1.62274124],\n",
       "       [-1.13450746,  0.7284319 , -1.05194947, -1.4053405 ],\n",
       "       [-1.11718674, -1.28103541, -1.05194947,  1.19570407],\n",
       "       [-1.09986601,  0.22606507, -1.01378004, -1.28887582],\n",
       "       [-1.08254529, -0.6351352 , -1.01378004,  0.88513158],\n",
       "       [-1.06522456, -0.20453507, -0.89927175, -0.93948177],\n",
       "       [-1.04790384, -1.3528021 , -0.89927175,  0.96277471],\n",
       "       [-1.03058311,  1.87669894, -0.86110232, -0.59008772],\n",
       "       [-1.01326239, -1.06573534, -0.86110232,  1.62274124],\n",
       "       [-0.99594166,  0.65666521, -0.82293289, -0.55126616],\n",
       "       [-0.97862094, -0.56336851, -0.82293289,  0.41927286],\n",
       "       [-0.96130021,  0.7284319 , -0.82293289, -0.86183865],\n",
       "       [-0.94397949, -1.06573534, -0.82293289,  0.5745591 ],\n",
       "       [-0.92665877,  0.80019859, -0.78476346,  0.18634349],\n",
       "       [-0.90933804, -0.85043527, -0.78476346, -0.12422899],\n",
       "       [-0.89201732, -0.70690189, -0.78476346, -0.3183368 ],\n",
       "       [-0.87469659, -0.56336851, -0.78476346, -0.3183368 ],\n",
       "       [-0.85737587,  0.7284319 , -0.70842461,  0.06987881],\n",
       "       [-0.84005514, -0.41983513, -0.70842461,  0.38045129],\n",
       "       [-0.82273442, -0.56336851, -0.67025518,  0.14752193],\n",
       "       [-0.80541369,  1.4460988 , -0.67025518,  0.38045129],\n",
       "       [-0.78809297,  0.80019859, -0.67025518, -0.20187212],\n",
       "       [-0.77077224,  0.58489852, -0.67025518, -0.35715836],\n",
       "       [-0.75345152,  0.87196528, -0.63208575, -0.00776431],\n",
       "       [-0.73613079,  2.16376569, -0.63208575, -0.16305055],\n",
       "       [-0.71881007, -0.85043527, -0.55574689,  0.03105725],\n",
       "       [-0.70148935,  1.01549866, -0.55574689, -0.16305055],\n",
       "       [-0.68416862,  2.23553238, -0.55574689,  0.22516505],\n",
       "       [-0.6668479 , -1.42456879, -0.55574689,  0.18634349],\n",
       "       [-0.64952717,  2.02023231, -0.51757746,  0.06987881],\n",
       "       [-0.63220645,  1.08726535, -0.51757746,  0.34162973],\n",
       "       [-0.61488572,  1.73316556, -0.47940803,  0.03105725],\n",
       "       [-0.597565  , -1.49633548, -0.47940803,  0.34162973],\n",
       "       [-0.58024427,  0.29783176, -0.47940803, -0.00776431],\n",
       "       [-0.56292355,  2.091999  , -0.47940803, -0.08540743],\n",
       "       [-0.54560282, -1.42456879, -0.47940803,  0.34162973],\n",
       "       [-0.5282821 , -0.49160182, -0.47940803, -0.12422899],\n",
       "       [-0.51096138,  2.23553238, -0.4412386 ,  0.18634349],\n",
       "       [-0.49364065,  0.58489852, -0.4412386 , -0.3183368 ],\n",
       "       [-0.47631993,  1.51786549, -0.40306917, -0.04658587],\n",
       "       [-0.4589992 ,  1.51786549, -0.40306917,  0.22516505],\n",
       "       [-0.44167848,  1.4460988 , -0.25039146, -0.12422899],\n",
       "       [-0.42435775, -0.92220196, -0.25039146,  0.14752193],\n",
       "       [-0.40703703,  0.44136514, -0.25039146,  0.10870037],\n",
       "       [-0.3897163 ,  0.08253169, -0.25039146, -0.08540743],\n",
       "       [-0.37239558, -1.13750203, -0.25039146,  0.06987881],\n",
       "       [-0.35507485,  0.7284319 , -0.25039146, -0.3183368 ],\n",
       "       [-0.33775413,  1.30256542, -0.25039146,  0.03105725],\n",
       "       [-0.3204334 , -0.06100169, -0.25039146,  0.18634349],\n",
       "       [-0.30311268,  2.02023231, -0.25039146, -0.35715836],\n",
       "       [-0.28579196,  0.51313183, -0.25039146, -0.24069368],\n",
       "       [-0.26847123, -1.28103541, -0.25039146,  0.26398661],\n",
       "       [-0.25115051,  0.65666521, -0.25039146, -0.16305055],\n",
       "       [-0.23382978,  1.15903204, -0.13588317,  0.30280817],\n",
       "       [-0.21650906, -1.20926872, -0.13588317,  0.18634349],\n",
       "       [-0.19918833, -0.34806844, -0.09771374,  0.38045129],\n",
       "       [-0.18186761,  0.80019859, -0.09771374, -0.16305055],\n",
       "       [-0.16454688,  2.091999  , -0.05954431,  0.18634349],\n",
       "       [-0.14722616, -1.49633548, -0.05954431, -0.35715836],\n",
       "       [-0.12990543,  0.65666521, -0.02137488, -0.04658587],\n",
       "       [-0.11258471,  0.08253169, -0.02137488, -0.39597992],\n",
       "       [-0.09526399, -0.49160182, -0.02137488, -0.3183368 ],\n",
       "       [-0.07794326, -1.06573534, -0.02137488,  0.06987881],\n",
       "       [-0.06062254,  0.58489852, -0.02137488, -0.12422899],\n",
       "       [-0.04330181, -0.85043527, -0.02137488, -0.00776431],\n",
       "       [-0.02598109,  0.65666521,  0.01679455, -0.3183368 ],\n",
       "       [-0.00866036, -1.3528021 ,  0.01679455, -0.04658587],\n",
       "       [ 0.00866036, -1.13750203,  0.05496398, -0.35715836],\n",
       "       [ 0.02598109,  0.7284319 ,  0.05496398, -0.08540743],\n",
       "       [ 0.04330181,  2.02023231,  0.05496398,  0.34162973],\n",
       "       [ 0.06062254, -0.92220196,  0.05496398,  0.18634349],\n",
       "       [ 0.07794326,  0.7284319 ,  0.05496398,  0.22516505],\n",
       "       [ 0.09526399, -1.28103541,  0.05496398, -0.3183368 ],\n",
       "       [ 0.11258471,  1.94846562,  0.09313341, -0.00776431],\n",
       "       [ 0.12990543,  1.08726535,  0.09313341, -0.16305055],\n",
       "       [ 0.14722616,  2.091999  ,  0.09313341, -0.27951524],\n",
       "       [ 0.16454688,  1.94846562,  0.09313341, -0.08540743],\n",
       "       [ 0.18186761,  1.87669894,  0.09313341,  0.06987881],\n",
       "       [ 0.19918833, -1.42456879,  0.09313341,  0.14752193],\n",
       "       [ 0.21650906, -0.06100169,  0.13130284, -0.3183368 ],\n",
       "       [ 0.23382978, -1.42456879,  0.13130284, -0.16305055],\n",
       "       [ 0.25115051, -1.49633548,  0.16947227, -0.08540743],\n",
       "       [ 0.26847123, -1.42456879,  0.16947227, -0.00776431],\n",
       "       [ 0.28579196,  1.73316556,  0.16947227, -0.27951524],\n",
       "       [ 0.30311268,  0.7284319 ,  0.16947227,  0.34162973],\n",
       "       [ 0.3204334 ,  0.87196528,  0.24581112, -0.27951524],\n",
       "       [ 0.33775413,  0.80019859,  0.24581112,  0.26398661],\n",
       "       [ 0.35507485, -0.85043527,  0.24581112,  0.22516505],\n",
       "       [ 0.37239558, -0.06100169,  0.24581112, -0.39597992],\n",
       "       [ 0.3897163 ,  0.08253169,  0.32214998,  0.30280817],\n",
       "       [ 0.40703703,  0.010765  ,  0.32214998,  1.58391968],\n",
       "       [ 0.42435775, -1.13750203,  0.36031941, -0.82301709],\n",
       "       [ 0.44167848, -0.56336851,  0.36031941,  1.04041783],\n",
       "       [ 0.4589992 ,  0.29783176,  0.39848884, -0.59008772],\n",
       "       [ 0.47631993,  0.08253169,  0.39848884,  1.73920592],\n",
       "       [ 0.49364065,  1.4460988 ,  0.39848884, -1.52180518],\n",
       "       [ 0.51096138, -0.06100169,  0.39848884,  0.96277471],\n",
       "       [ 0.5282821 ,  0.58489852,  0.39848884, -1.5994483 ],\n",
       "       [ 0.54560282,  0.010765  ,  0.39848884,  0.96277471],\n",
       "       [ 0.56292355, -0.99396865,  0.43665827, -0.62890928],\n",
       "       [ 0.58024427, -0.56336851,  0.43665827,  0.80748846],\n",
       "       [ 0.597565  , -1.3528021 ,  0.4748277 , -1.75473454],\n",
       "       [ 0.61488572, -0.70690189,  0.4748277 ,  1.46745499],\n",
       "       [ 0.63220645,  0.36959845,  0.4748277 , -1.67709142],\n",
       "       [ 0.64952717, -0.49160182,  0.4748277 ,  0.88513158],\n",
       "       [ 0.6668479 , -1.42456879,  0.51299713, -1.56062674],\n",
       "       [ 0.68416862, -0.27630176,  0.51299713,  0.84631002],\n",
       "       [ 0.70148935,  1.30256542,  0.55116656, -1.75473454],\n",
       "       [ 0.71881007, -0.49160182,  0.55116656,  1.6615628 ],\n",
       "       [ 0.73613079, -0.77866858,  0.58933599, -0.39597992],\n",
       "       [ 0.75345152, -0.49160182,  0.58933599,  1.42863343],\n",
       "       [ 0.77077224, -0.99396865,  0.62750542, -1.48298362],\n",
       "       [ 0.78809297, -0.77866858,  0.62750542,  1.81684904],\n",
       "       [ 0.80541369,  0.65666521,  0.62750542, -0.55126616],\n",
       "       [ 0.82273442, -0.49160182,  0.62750542,  0.92395314],\n",
       "       [ 0.84005514, -0.34806844,  0.66567484, -1.09476801],\n",
       "       [ 0.85737587, -0.34806844,  0.66567484,  1.54509812],\n",
       "       [ 0.87469659,  0.29783176,  0.66567484, -1.28887582],\n",
       "       [ 0.89201732,  0.010765  ,  0.66567484,  1.46745499],\n",
       "       [ 0.90933804,  0.36959845,  0.66567484, -1.17241113],\n",
       "       [ 0.92665877, -0.06100169,  0.66567484,  1.00159627],\n",
       "       [ 0.94397949,  0.58489852,  0.66567484, -1.32769738],\n",
       "       [ 0.96130021, -0.85043527,  0.66567484,  1.50627656],\n",
       "       [ 0.97862094, -0.13276838,  0.66567484, -1.91002079],\n",
       "       [ 0.99594166, -0.6351352 ,  0.66567484,  1.07923939],\n",
       "       [ 1.01326239, -0.34806844,  0.66567484, -1.91002079],\n",
       "       [ 1.03058311, -0.6351352 ,  0.66567484,  0.88513158],\n",
       "       [ 1.04790384,  1.23079873,  0.70384427, -0.59008772],\n",
       "       [ 1.06522456, -0.70690189,  0.70384427,  1.27334719],\n",
       "       [ 1.08254529, -1.42456879,  0.78018313, -1.75473454],\n",
       "       [ 1.09986601, -0.56336851,  0.78018313,  1.6615628 ],\n",
       "       [ 1.11718674,  0.80019859,  0.93286085, -0.93948177],\n",
       "       [ 1.13450746, -0.20453507,  0.93286085,  0.96277471],\n",
       "       [ 1.15182818,  0.22606507,  0.97103028, -1.17241113],\n",
       "       [ 1.16914891, -0.41983513,  0.97103028,  1.73920592],\n",
       "       [ 1.18646963, -0.20453507,  1.00919971, -0.90066021],\n",
       "       [ 1.20379036, -0.49160182,  1.00919971,  0.49691598],\n",
       "       [ 1.22111108,  0.08253169,  1.00919971, -1.44416206],\n",
       "       [ 1.23843181, -0.77866858,  1.00919971,  0.96277471],\n",
       "       [ 1.25575253, -0.20453507,  1.00919971, -1.56062674],\n",
       "       [ 1.27307326, -0.20453507,  1.00919971,  1.62274124],\n",
       "       [ 1.29039398,  0.94373197,  1.04736914, -1.44416206],\n",
       "       [ 1.30771471, -0.6351352 ,  1.04736914,  1.38981187],\n",
       "       [ 1.32503543,  1.37433211,  1.04736914, -1.36651894],\n",
       "       [ 1.34235616, -0.85043527,  1.04736914,  0.72984534],\n",
       "       [ 1.35967688,  1.4460988 ,  1.23821628, -1.4053405 ],\n",
       "       [ 1.3769976 , -0.27630176,  1.23821628,  1.54509812],\n",
       "       [ 1.39431833, -0.13276838,  1.390894  , -0.7065524 ],\n",
       "       [ 1.41163905, -0.49160182,  1.390894  ,  1.38981187],\n",
       "       [ 1.42895978,  0.51313183,  1.42906343, -1.36651894],\n",
       "       [ 1.4462805 , -0.70690189,  1.42906343,  1.46745499],\n",
       "       [ 1.46360123,  0.15429838,  1.46723286, -0.43480148],\n",
       "       [ 1.48092195, -0.6351352 ,  1.46723286,  1.81684904],\n",
       "       [ 1.49824268,  1.08726535,  1.54357172, -1.01712489],\n",
       "       [ 1.5155634 , -0.77866858,  1.54357172,  0.69102378],\n",
       "       [ 1.53288413,  0.15429838,  1.61991057, -1.28887582],\n",
       "       [ 1.55020485, -0.20453507,  1.61991057,  1.35099031],\n",
       "       [ 1.56752558, -0.34806844,  1.61991057, -1.05594645],\n",
       "       [ 1.5848463 , -0.49160182,  1.61991057,  0.72984534],\n",
       "       [ 1.60216702, -0.41983513,  2.00160487, -1.63826986],\n",
       "       [ 1.61948775, -0.06100169,  2.00160487,  1.58391968],\n",
       "       [ 1.63680847,  0.58489852,  2.26879087, -1.32769738],\n",
       "       [ 1.6541292 , -0.27630176,  2.26879087,  1.11806095],\n",
       "       [ 1.67144992,  0.44136514,  2.49780745, -0.86183865],\n",
       "       [ 1.68877065, -0.49160182,  2.49780745,  0.92395314],\n",
       "       [ 1.70609137, -0.49160182,  2.91767117, -1.25005425],\n",
       "       [ 1.7234121 , -0.6351352 ,  2.91767117,  1.27334719]])"
      ]
     },
     "execution_count": 34,
     "metadata": {},
     "output_type": "execute_result"
    }
   ],
   "source": [
    "x_scaled=preprocessing.scale(x)\n",
    "x_scaled"
   ]
  },
  {
   "cell_type": "code",
   "execution_count": 35,
   "metadata": {},
   "outputs": [
    {
     "data": {
      "text/plain": [
       "[800.0000000000003,\n",
       " 515.6688891233368,\n",
       " 375.2643070614756,\n",
       " 259.7059364995401,\n",
       " 209.5783837699584,\n",
       " 160.97567568819875,\n",
       " 144.67273835360632,\n",
       " 130.7205333775289,\n",
       " 116.97048744488866,\n",
       " 103.61270144778922,\n",
       " 91.7893661038518,\n",
       " 85.65094285993688,\n",
       " 77.37575978275085,\n",
       " 73.87724554185631,\n",
       " 70.77277163715489,\n",
       " 67.88723131622898,\n",
       " 63.00481575177304,\n",
       " 59.777777650976375,\n",
       " 56.955823108106145,\n",
       " 55.896037482446566,\n",
       " 53.44443136779479,\n",
       " 51.44439298659067,\n",
       " 50.18255733795196,\n",
       " 47.94986628134427,\n",
       " 45.88481064697713,\n",
       " 43.59670969783353,\n",
       " 41.3868142230391,\n",
       " 39.70345671415919,\n",
       " 37.736842126253634,\n",
       " 36.192645355580815,\n",
       " 34.684908197967545,\n",
       " 33.12096693326614,\n",
       " 33.75662623174318,\n",
       " 31.51397302648984,\n",
       " 29.667725173511304,\n",
       " 29.398441158309936,\n",
       " 28.43523471243757,\n",
       " 27.425948503840935,\n",
       " 26.77419084213252,\n",
       " 25.69231062943741,\n",
       " 24.55526780687985,\n",
       " 24.32834460769021,\n",
       " 23.827866303599656,\n",
       " 22.38609240807592,\n",
       " 21.644104102469658,\n",
       " 21.74897037848195,\n",
       " 20.428384428587126,\n",
       " 20.51515905675138,\n",
       " 19.82780133724388,\n",
       " 19.86119219672355,\n",
       " 19.10909292323481,\n",
       " 18.572288985095305,\n",
       " 18.025033792443907,\n",
       " 17.67722369659552,\n",
       " 17.248451922087206,\n",
       " 15.776318440659521,\n",
       " 16.13713387903622,\n",
       " 15.855775354637757,\n",
       " 15.474926515665821,\n",
       " 15.173502373104721,\n",
       " 14.78084463543792,\n",
       " 14.205916629234267,\n",
       " 13.777654949454897,\n",
       " 13.76971299639731,\n",
       " 13.147890343259194,\n",
       " 12.82922135466858,\n",
       " 12.62652069571156,\n",
       " 12.453478847237447,\n",
       " 12.10344249308415,\n",
       " 11.726173829822066,\n",
       " 11.428173511351536,\n",
       " 11.471683059510815,\n",
       " 11.169130125316492,\n",
       " 10.592444891597308,\n",
       " 10.49208960893224,\n",
       " 10.069339733298806,\n",
       " 10.052644736383243,\n",
       " 9.804686209270638,\n",
       " 9.247556066530205,\n",
       " 9.439390608940238,\n",
       " 9.095839267215672,\n",
       " 8.58984495293684,\n",
       " 8.959944672547525,\n",
       " 8.559702630585841,\n",
       " 7.9017807628543135,\n",
       " 8.057431854935908,\n",
       " 7.674105111303534,\n",
       " 7.808531337330394,\n",
       " 7.2310569659084925,\n",
       " 7.220102683978602,\n",
       " 6.824687922148971,\n",
       " 6.828078458870412,\n",
       " 6.701582291062579,\n",
       " 6.515395881005317,\n",
       " 6.083183043119967,\n",
       " 5.978916642895099,\n",
       " 5.931932004096654,\n",
       " 5.907074440446077,\n",
       " 5.532807662163946,\n",
       " 5.36060670077863,\n",
       " 5.273059011856175,\n",
       " 5.315857524098757,\n",
       " 5.039244980327803,\n",
       " 5.067578933971631,\n",
       " 4.812686605690183,\n",
       " 4.734909046466231,\n",
       " 4.503753900246637,\n",
       " 4.433092033729226,\n",
       " 4.24590511023643,\n",
       " 4.129004300394726,\n",
       " 4.14521700508416,\n",
       " 3.942444275341072,\n",
       " 3.7600436397302275,\n",
       " 3.659107351175743,\n",
       " 3.7508923795153524,\n",
       " 3.490928191064435,\n",
       " 3.4469382212242845,\n",
       " 3.331726856238643,\n",
       " 3.2855107808466393,\n",
       " 3.1896196557550933,\n",
       " 2.9996483340023383,\n",
       " 3.086404418274263,\n",
       " 2.874981967082644,\n",
       " 2.7866069429031257,\n",
       " 2.6906069680067595,\n",
       " 2.530713095656771,\n",
       " 2.6008812084190955,\n",
       " 2.486967746055897,\n",
       " 2.343583707167568,\n",
       " 2.276026746661273,\n",
       " 2.3219596241849576,\n",
       " 2.206069203759216,\n",
       " 2.110006160674831,\n",
       " 2.1307642975485663,\n",
       " 1.988998726816883,\n",
       " 1.9215011973582694,\n",
       " 1.9419370270249847,\n",
       " 1.7636982443358022,\n",
       " 1.7673624307867015,\n",
       " 1.6771734700785426,\n",
       " 1.6536405746891236,\n",
       " 1.5820914984962984,\n",
       " 1.5045095147952303,\n",
       " 1.5035924257621882,\n",
       " 1.3816100419333892,\n",
       " 1.3263250923196201,\n",
       " 1.310962687893019,\n",
       " 1.2662856254384771,\n",
       " 1.2034571372530876,\n",
       " 1.2006366025594284,\n",
       " 1.1163060676780414,\n",
       " 1.0881804976865073,\n",
       " 1.0537101989980355,\n",
       " 0.97241287475784,\n",
       " 0.9502655142913519,\n",
       " 0.90683363365343,\n",
       " 0.8748188244767082,\n",
       " 0.8375230963293537,\n",
       " 0.7902940137626123,\n",
       " 0.7513872551126651,\n",
       " 0.7177636584541762,\n",
       " 0.6888185622404904,\n",
       " 0.6673424786604228,\n",
       " 0.6061726410178088,\n",
       " 0.5858996306269472,\n",
       " 0.5694555533683437,\n",
       " 0.5256414982569594,\n",
       " 0.5002877054891826,\n",
       " 0.46502987475163304,\n",
       " 0.4498630030472162,\n",
       " 0.414796438593254,\n",
       " 0.3886963780417805,\n",
       " 0.36315609466897214,\n",
       " 0.34123735143863226,\n",
       " 0.31436783155338804,\n",
       " 0.29235879217295674,\n",
       " 0.27123621420013655,\n",
       " 0.2515275034122672,\n",
       " 0.23011649092361317,\n",
       " 0.21214256058070674,\n",
       " 0.1942978469683158,\n",
       " 0.17288683447966174,\n",
       " 0.1580822684454139,\n",
       " 0.14341115783149389,\n",
       " 0.1296848066262832,\n",
       " 0.11558084253869844,\n",
       " 0.10185449133348776,\n",
       " 0.0883589276021744,\n",
       " 0.07776500771704672,\n",
       " 0.06658563581143898,\n",
       " 0.05662838084524191,\n",
       " 0.04752509917264469,\n",
       " 0.038568965216299406,\n",
       " 0.029850996527525583,\n",
       " 0.021861480500401227,\n",
       " 0.01612202072468316,\n",
       " 0.011464767401152999,\n",
       " 0.00710050649815104,\n",
       " 0.0031752438738411426]"
      ]
     },
     "execution_count": 35,
     "metadata": {},
     "output_type": "execute_result"
    }
   ],
   "source": [
    "wcss = []\n",
    "for i in range(1,200):\n",
    "    kmeans = KMeans(i)\n",
    "    kmeans.fit(x_scaled)\n",
    "    wcss.append(kmeans.inertia_)\n",
    "wcss"
   ]
  },
  {
   "cell_type": "code",
   "execution_count": 36,
   "metadata": {},
   "outputs": [
    {
     "data": {
      "image/png": "[encoded data removed]",
      "text/plain": [
       "<Figure size 432x288 with 1 Axes>"
      ]
     },
     "metadata": {},
     "output_type": "display_data"
    }
   ],
   "source": [
    "plt.plot(range(1,200),wcss, c=\"#c51b7e\")\n",
    "plt.title('Elbow Method')\n",
    "plt.xlabel('Number of clusters')\n",
    "plt.ylabel('wcss')\n",
    "plt.show() "
   ]
  },
  {
   "cell_type": "code",
   "execution_count": 37,
   "metadata": {},
   "outputs": [
    {
     "data": {
      "text/html": [
       "<div>\n",
       "<style scoped>\n",
       "    .dataframe tbody tr th:only-of-type {\n",
       "        vertical-align: middle;\n",
       "    }\n",
       "\n",
       "    .dataframe tbody tr th {\n",
       "        vertical-align: top;\n",
       "    }\n",
       "\n",
       "    .dataframe thead th {\n",
       "        text-align: right;\n",
       "    }\n",
       "</style>\n",
       "<table border=\"1\" class=\"dataframe\">\n",
       "  <thead>\n",
       "    <tr style=\"text-align: right;\">\n",
       "      <th></th>\n",
       "      <th>CustomerID</th>\n",
       "      <th>Age</th>\n",
       "      <th>Annual Income (k$)</th>\n",
       "      <th>Spending Score (1-100)</th>\n",
       "      <th>cluster_pred</th>\n",
       "    </tr>\n",
       "  </thead>\n",
       "  <tbody>\n",
       "    <tr>\n",
       "      <th>0</th>\n",
       "      <td>1</td>\n",
       "      <td>19</td>\n",
       "      <td>15</td>\n",
       "      <td>39</td>\n",
       "      <td>2</td>\n",
       "    </tr>\n",
       "    <tr>\n",
       "      <th>1</th>\n",
       "      <td>2</td>\n",
       "      <td>21</td>\n",
       "      <td>15</td>\n",
       "      <td>81</td>\n",
       "      <td>8</td>\n",
       "    </tr>\n",
       "    <tr>\n",
       "      <th>2</th>\n",
       "      <td>3</td>\n",
       "      <td>20</td>\n",
       "      <td>16</td>\n",
       "      <td>6</td>\n",
       "      <td>2</td>\n",
       "    </tr>\n",
       "    <tr>\n",
       "      <th>3</th>\n",
       "      <td>4</td>\n",
       "      <td>23</td>\n",
       "      <td>16</td>\n",
       "      <td>77</td>\n",
       "      <td>8</td>\n",
       "    </tr>\n",
       "    <tr>\n",
       "      <th>4</th>\n",
       "      <td>5</td>\n",
       "      <td>31</td>\n",
       "      <td>17</td>\n",
       "      <td>40</td>\n",
       "      <td>2</td>\n",
       "    </tr>\n",
       "    <tr>\n",
       "      <th>...</th>\n",
       "      <td>...</td>\n",
       "      <td>...</td>\n",
       "      <td>...</td>\n",
       "      <td>...</td>\n",
       "      <td>...</td>\n",
       "    </tr>\n",
       "    <tr>\n",
       "      <th>195</th>\n",
       "      <td>196</td>\n",
       "      <td>35</td>\n",
       "      <td>120</td>\n",
       "      <td>79</td>\n",
       "      <td>5</td>\n",
       "    </tr>\n",
       "    <tr>\n",
       "      <th>196</th>\n",
       "      <td>197</td>\n",
       "      <td>45</td>\n",
       "      <td>126</td>\n",
       "      <td>28</td>\n",
       "      <td>9</td>\n",
       "    </tr>\n",
       "    <tr>\n",
       "      <th>197</th>\n",
       "      <td>198</td>\n",
       "      <td>32</td>\n",
       "      <td>126</td>\n",
       "      <td>74</td>\n",
       "      <td>5</td>\n",
       "    </tr>\n",
       "    <tr>\n",
       "      <th>198</th>\n",
       "      <td>199</td>\n",
       "      <td>32</td>\n",
       "      <td>137</td>\n",
       "      <td>18</td>\n",
       "      <td>9</td>\n",
       "    </tr>\n",
       "    <tr>\n",
       "      <th>199</th>\n",
       "      <td>200</td>\n",
       "      <td>30</td>\n",
       "      <td>137</td>\n",
       "      <td>83</td>\n",
       "      <td>5</td>\n",
       "    </tr>\n",
       "  </tbody>\n",
       "</table>\n",
       "<p>200 rows × 5 columns</p>\n",
       "</div>"
      ],
      "text/plain": [
       "     CustomerID  Age  Annual Income (k$)  Spending Score (1-100)  cluster_pred\n",
       "0             1   19                  15                      39             2\n",
       "1             2   21                  15                      81             8\n",
       "2             3   20                  16                       6             2\n",
       "3             4   23                  16                      77             8\n",
       "4             5   31                  17                      40             2\n",
       "..          ...  ...                 ...                     ...           ...\n",
       "195         196   35                 120                      79             5\n",
       "196         197   45                 126                      28             9\n",
       "197         198   32                 126                      74             5\n",
       "198         199   32                 137                      18             9\n",
       "199         200   30                 137                      83             5\n",
       "\n",
       "[200 rows x 5 columns]"
      ]
     },
     "execution_count": 37,
     "metadata": {},
     "output_type": "execute_result"
    }
   ],
   "source": [
    "kmeans_new=KMeans(12)\n",
    "kmeans.fit(x_scaled)\n",
    "cluster_new=x.copy()\n",
    "cluster_new['cluster_pred']=kmeans_new.fit_predict(x_scaled)\n",
    "cluster_new"
   ]
  },
  {
   "cell_type": "code",
   "execution_count": 38,
   "metadata": {},
   "outputs": [
    {
     "data": {
      "text/plain": [
       "<function matplotlib.pyplot.show(*args, **kw)>"
      ]
     },
     "execution_count": 38,
     "metadata": {},
     "output_type": "execute_result"
    },
    {
     "data": {
      "image/png": "[encoded data removed]",
      "text/plain": [
       "<Figure size 432x288 with 1 Axes>"
      ]
     },
     "metadata": {},
     "output_type": "display_data"
    }
   ],
   "source": [
    "plt.scatter(clusters['Annual Income (k$)'],clusters['Spending Score (1-100)'],c=cluster_new['cluster_pred'],cmap='rainbow')\n",
    "plt.xlabel('Annual Income (k$)')\n",
    "plt.ylabel('Spending Score (1-100)')\n",
    "plt.show"
   ]
  },
  {
   "cell_type": "code",
   "execution_count": 46,
   "metadata": {},
   "outputs": [],
   "source": [
    "model = KMeans(n_clusters = 12)"
   ]
  },
  {
   "cell_type": "code",
   "execution_count": 47,
   "metadata": {},
   "outputs": [
    {
     "data": {
      "text/plain": [
       "KMeans(n_clusters=12)"
      ]
     },
     "execution_count": 47,
     "metadata": {},
     "output_type": "execute_result"
    }
   ],
   "source": [
    "model.fit(cluster_new)"
   ]
  },
  {
   "cell_type": "code",
   "execution_count": 48,
   "metadata": {},
   "outputs": [
    {
     "data": {
      "text/plain": [
       "array([ 1,  5,  1,  5,  1,  5,  1,  5,  1,  5,  1,  5,  1,  5,  1,  5,  1,\n",
       "        5,  1,  5,  1,  5,  1,  5,  1,  5,  1,  5,  1,  5,  1,  5,  1,  5,\n",
       "        1,  5,  1,  5,  1,  5, 10,  5, 10,  3, 10,  3, 10,  3,  3,  3, 10,\n",
       "        3,  3, 10, 10, 10, 10, 10,  3, 10, 10,  3, 10, 10, 10,  3,  3, 10,\n",
       "        3,  3, 10, 11, 11, 11, 11,  3, 11, 11,  6, 11, 11, 11, 11, 11,  6,\n",
       "       11, 11,  6,  6, 11, 11,  6, 11, 11,  6,  6, 11,  6,  0,  6,  6,  0,\n",
       "        0,  6,  0,  6,  0,  0,  0,  0,  0,  6,  0,  6,  6,  6,  0,  0,  0,\n",
       "        0,  6,  0,  0,  9,  8,  9,  0,  9,  8,  9,  8,  9,  8,  9,  8,  9,\n",
       "        8,  9,  8,  9,  8,  9,  8,  9,  8,  9,  8,  9,  8,  9,  8,  4,  8,\n",
       "        4,  8,  4,  8,  4,  8,  4,  8,  4,  8,  4,  2,  4,  2,  4,  2,  4,\n",
       "        2,  4,  2,  4,  2,  4,  2,  4,  2,  7,  2,  7,  2,  7,  2,  7,  2,\n",
       "        7,  2,  7,  2,  7,  2,  7,  2,  7,  2,  7,  2,  7])"
      ]
     },
     "execution_count": 48,
     "metadata": {},
     "output_type": "execute_result"
    }
   ],
   "source": [
    "model.labels_"
   ]
  },
  {
   "cell_type": "code",
   "execution_count": 49,
   "metadata": {},
   "outputs": [],
   "source": [
    "cluster_new.insert(4,\"Class\",model.labels_)"
   ]
  },
  {
   "cell_type": "code",
   "execution_count": 50,
   "metadata": {},
   "outputs": [
    {
     "data": {
      "text/html": [
       "<div>\n",
       "<style scoped>\n",
       "    .dataframe tbody tr th:only-of-type {\n",
       "        vertical-align: middle;\n",
       "    }\n",
       "\n",
       "    .dataframe tbody tr th {\n",
       "        vertical-align: top;\n",
       "    }\n",
       "\n",
       "    .dataframe thead th {\n",
       "        text-align: right;\n",
       "    }\n",
       "</style>\n",
       "<table border=\"1\" class=\"dataframe\">\n",
       "  <thead>\n",
       "    <tr style=\"text-align: right;\">\n",
       "      <th></th>\n",
       "      <th>CustomerID</th>\n",
       "      <th>Age</th>\n",
       "      <th>Annual Income (k$)</th>\n",
       "      <th>Spending Score (1-100)</th>\n",
       "      <th>Class</th>\n",
       "      <th>cluster_pred</th>\n",
       "    </tr>\n",
       "  </thead>\n",
       "  <tbody>\n",
       "    <tr>\n",
       "      <th>0</th>\n",
       "      <td>1</td>\n",
       "      <td>19</td>\n",
       "      <td>15</td>\n",
       "      <td>39</td>\n",
       "      <td>1</td>\n",
       "      <td>2</td>\n",
       "    </tr>\n",
       "    <tr>\n",
       "      <th>1</th>\n",
       "      <td>2</td>\n",
       "      <td>21</td>\n",
       "      <td>15</td>\n",
       "      <td>81</td>\n",
       "      <td>5</td>\n",
       "      <td>8</td>\n",
       "    </tr>\n",
       "    <tr>\n",
       "      <th>2</th>\n",
       "      <td>3</td>\n",
       "      <td>20</td>\n",
       "      <td>16</td>\n",
       "      <td>6</td>\n",
       "      <td>1</td>\n",
       "      <td>2</td>\n",
       "    </tr>\n",
       "    <tr>\n",
       "      <th>3</th>\n",
       "      <td>4</td>\n",
       "      <td>23</td>\n",
       "      <td>16</td>\n",
       "      <td>77</td>\n",
       "      <td>5</td>\n",
       "      <td>8</td>\n",
       "    </tr>\n",
       "    <tr>\n",
       "      <th>4</th>\n",
       "      <td>5</td>\n",
       "      <td>31</td>\n",
       "      <td>17</td>\n",
       "      <td>40</td>\n",
       "      <td>1</td>\n",
       "      <td>2</td>\n",
       "    </tr>\n",
       "    <tr>\n",
       "      <th>...</th>\n",
       "      <td>...</td>\n",
       "      <td>...</td>\n",
       "      <td>...</td>\n",
       "      <td>...</td>\n",
       "      <td>...</td>\n",
       "      <td>...</td>\n",
       "    </tr>\n",
       "    <tr>\n",
       "      <th>195</th>\n",
       "      <td>196</td>\n",
       "      <td>35</td>\n",
       "      <td>120</td>\n",
       "      <td>79</td>\n",
       "      <td>7</td>\n",
       "      <td>5</td>\n",
       "    </tr>\n",
       "    <tr>\n",
       "      <th>196</th>\n",
       "      <td>197</td>\n",
       "      <td>45</td>\n",
       "      <td>126</td>\n",
       "      <td>28</td>\n",
       "      <td>2</td>\n",
       "      <td>9</td>\n",
       "    </tr>\n",
       "    <tr>\n",
       "      <th>197</th>\n",
       "      <td>198</td>\n",
       "      <td>32</td>\n",
       "      <td>126</td>\n",
       "      <td>74</td>\n",
       "      <td>7</td>\n",
       "      <td>5</td>\n",
       "    </tr>\n",
       "    <tr>\n",
       "      <th>198</th>\n",
       "      <td>199</td>\n",
       "      <td>32</td>\n",
       "      <td>137</td>\n",
       "      <td>18</td>\n",
       "      <td>2</td>\n",
       "      <td>9</td>\n",
       "    </tr>\n",
       "    <tr>\n",
       "      <th>199</th>\n",
       "      <td>200</td>\n",
       "      <td>30</td>\n",
       "      <td>137</td>\n",
       "      <td>83</td>\n",
       "      <td>7</td>\n",
       "      <td>5</td>\n",
       "    </tr>\n",
       "  </tbody>\n",
       "</table>\n",
       "<p>200 rows × 6 columns</p>\n",
       "</div>"
      ],
      "text/plain": [
       "     CustomerID  Age  Annual Income (k$)  Spending Score (1-100) Class  \\\n",
       "0             1   19                  15                      39     1   \n",
       "1             2   21                  15                      81     5   \n",
       "2             3   20                  16                       6     1   \n",
       "3             4   23                  16                      77     5   \n",
       "4             5   31                  17                      40     1   \n",
       "..          ...  ...                 ...                     ...   ...   \n",
       "195         196   35                 120                      79     7   \n",
       "196         197   45                 126                      28     2   \n",
       "197         198   32                 126                      74     7   \n",
       "198         199   32                 137                      18     2   \n",
       "199         200   30                 137                      83     7   \n",
       "\n",
       "     cluster_pred  \n",
       "0               2  \n",
       "1               8  \n",
       "2               2  \n",
       "3               8  \n",
       "4               2  \n",
       "..            ...  \n",
       "195             5  \n",
       "196             9  \n",
       "197             5  \n",
       "198             9  \n",
       "199             5  \n",
       "\n",
       "[200 rows x 6 columns]"
      ]
     },
     "execution_count": 50,
     "metadata": {},
     "output_type": "execute_result"
    }
   ],
   "source": [
    "cluster_new.replace({'Class': {0:\"0\",1:\"1\",2:\"2\",3:\"3\",4:\"4\",5:\"5\",6:\"6\",7:\"7\",8:\"8\",9:\"9\",10:\"10\",11:\"11\",12:\"12\"}})"
   ]
  },
  {
   "cell_type": "code",
   "execution_count": 51,
   "metadata": {},
   "outputs": [
    {
     "data": {
      "text/plain": [
       "5     21\n",
       "1     20\n",
       "8     19\n",
       "11    18\n",
       "2     18\n",
       "10    17\n",
       "6     17\n",
       "0     17\n",
       "9     14\n",
       "4     14\n",
       "3     14\n",
       "7     11\n",
       "Name: Class, dtype: int64"
      ]
     },
     "execution_count": 51,
     "metadata": {},
     "output_type": "execute_result"
    }
   ],
   "source": [
    "cluster_new['Class'].value_counts()"
   ]
  },
  {
   "cell_type": "code",
   "execution_count": 52,
   "metadata": {},
   "outputs": [
    {
     "data": {
      "text/plain": [
       "Index(['CustomerID', 'Age', 'Annual Income (k$)', 'Spending Score (1-100)',\n",
       "       'Class', 'cluster_pred'],\n",
       "      dtype='object')"
      ]
     },
     "execution_count": 52,
     "metadata": {},
     "output_type": "execute_result"
    }
   ],
   "source": [
    "cluster_new.columns"
   ]
  },
  {
   "cell_type": "code",
   "execution_count": 53,
   "metadata": {},
   "outputs": [
    {
     "data": {
      "text/plain": [
       "array([[ 1, 19, 15, 39],\n",
       "       [ 2, 21, 15, 81],\n",
       "       [ 3, 20, 16,  6],\n",
       "       [ 4, 23, 16, 77],\n",
       "       [ 5, 31, 17, 40]], dtype=int64)"
      ]
     },
     "execution_count": 53,
     "metadata": {},
     "output_type": "execute_result"
    }
   ],
   "source": [
    "X=cluster_new[['CustomerID', 'Age', 'Annual Income (k$)', 'Spending Score (1-100)']].values\n",
    "X[0:5]"
   ]
  },
  {
   "cell_type": "code",
   "execution_count": 54,
   "metadata": {},
   "outputs": [
    {
     "data": {
      "text/plain": [
       "array([1, 5, 1, 5, 1])"
      ]
     },
     "execution_count": 54,
     "metadata": {},
     "output_type": "execute_result"
    }
   ],
   "source": [
    "y=cluster_new['Class'].values\n",
    "y[0:5]"
   ]
  },
  {
   "cell_type": "code",
   "execution_count": 55,
   "metadata": {},
   "outputs": [
    {
     "data": {
      "text/plain": [
       "array([[-1.7234121 , -1.42456879, -1.73899919, -0.43480148],\n",
       "       [-1.70609137, -1.28103541, -1.73899919,  1.19570407],\n",
       "       [-1.68877065, -1.3528021 , -1.70082976, -1.71591298],\n",
       "       [-1.67144992, -1.13750203, -1.70082976,  1.04041783],\n",
       "       [-1.6541292 , -0.56336851, -1.66266033, -0.39597992]])"
      ]
     },
     "execution_count": 55,
     "metadata": {},
     "output_type": "execute_result"
    }
   ],
   "source": [
    "X=preprocessing.StandardScaler().fit(X).transform(X.astype(float))\n",
    "X[0:5]"
   ]
  },
  {
   "cell_type": "code",
   "execution_count": 56,
   "metadata": {},
   "outputs": [
    {
     "name": "stdout",
     "output_type": "stream",
     "text": [
      "Train set: (160, 4) (160,)\n",
      "Test set: (40, 4) (40,)\n"
     ]
    }
   ],
   "source": [
    "from sklearn.model_selection import train_test_split\n",
    "X_train,X_test,y_train,y_test=train_test_split(X,y,test_size=0.2, random_state=4)\n",
    "print(\"Train set:\", X_train.shape, y_train.shape)\n",
    "print(\"Test set:\",X_test.shape,y_test.shape)"
   ]
  },
  {
   "cell_type": "code",
   "execution_count": 57,
   "metadata": {},
   "outputs": [
    {
     "data": {
      "text/plain": [
       "KNeighborsClassifier()"
      ]
     },
     "execution_count": 57,
     "metadata": {},
     "output_type": "execute_result"
    }
   ],
   "source": [
    "from sklearn.neighbors import KNeighborsClassifier\n",
    "\n",
    "k=5\n",
    "neigh=KNeighborsClassifier(n_neighbors=k).fit(X_train,y_train)\n",
    "neigh"
   ]
  },
  {
   "cell_type": "code",
   "execution_count": 58,
   "metadata": {},
   "outputs": [
    {
     "data": {
      "text/plain": [
       "array([5, 6, 8, 4, 5])"
      ]
     },
     "execution_count": 58,
     "metadata": {},
     "output_type": "execute_result"
    }
   ],
   "source": [
    "y_hat=neigh.predict(X_test)\n",
    "y_hat[0:5]"
   ]
  },
  {
   "cell_type": "code",
   "execution_count": 59,
   "metadata": {},
   "outputs": [
    {
     "name": "stdout",
     "output_type": "stream",
     "text": [
      "Eğitim verisi doğruluğu: 0.94375\n",
      "Test verisi doğruluğu: 0.9\n"
     ]
    }
   ],
   "source": [
    "from sklearn import metrics\n",
    "print(\"Eğitim verisi doğruluğu:\", metrics.accuracy_score(y_train,neigh.predict(X_train)))\n",
    "print(\"Test verisi doğruluğu:\", metrics.accuracy_score(y_test,y_hat))"
   ]
  },
  {
   "cell_type": "code",
   "execution_count": 60,
   "metadata": {},
   "outputs": [
    {
     "data": {
      "text/plain": [
       "array([0.9  , 0.85 , 0.875, 0.825, 0.9  , 0.85 , 0.9  , 0.925, 0.9  ])"
      ]
     },
     "execution_count": 60,
     "metadata": {},
     "output_type": "execute_result"
    }
   ],
   "source": [
    "Ks = 10\n",
    "\n",
    "mean_acc = np.zeros((Ks-1))\n",
    "std_acc = np.zeros((Ks-1))\n",
    "ConfustionMx = [];\n",
    "for n in range(1,Ks):\n",
    "    \n",
    "    #Train Model and Predict  \n",
    "    neigh = KNeighborsClassifier(n_neighbors = n).fit(X_train,y_train)\n",
    "    yhat=neigh.predict(X_test)\n",
    "    mean_acc[n-1] = metrics.accuracy_score(y_test, yhat)\n",
    "\n",
    "    \n",
    "    std_acc[n-1]=np.std(yhat==y_test)/np.sqrt(yhat.shape[0])\n",
    "\n",
    "mean_acc"
   ]
  },
  {
   "cell_type": "code",
   "execution_count": 61,
   "metadata": {},
   "outputs": [
    {
     "data": {
      "image/png": "[encoded data removed]",
      "text/plain": [
       "<Figure size 432x288 with 1 Axes>"
      ]
     },
     "metadata": {},
     "output_type": "display_data"
    }
   ],
   "source": [
    "plt.plot(range(1,Ks),mean_acc,'g')\n",
    "plt.fill_between(range(1,Ks),mean_acc - 1 * std_acc,mean_acc + 1 * std_acc, alpha=0.10)\n",
    "plt.legend(('Accuracy ', '+/- 3xstd'))\n",
    "plt.ylabel('Accuracy ')\n",
    "plt.xlabel('Number of Nabors (K)')\n",
    "plt.tight_layout()\n",
    "plt.show()"
   ]
  },
  {
   "cell_type": "code",
   "execution_count": 62,
   "metadata": {},
   "outputs": [
    {
     "name": "stdout",
     "output_type": "stream",
     "text": [
      "En yüksek Doğruluk= 0.925 K= 8 olduğunda gerçekleşti.\n"
     ]
    }
   ],
   "source": [
    "print( \"En yüksek Doğruluk=\", mean_acc.max(), \"K=\", mean_acc.argmax()+1,\"olduğunda gerçekleşti.\")"
   ]
  },
  {
   "cell_type": "code",
   "execution_count": 63,
   "metadata": {},
   "outputs": [
    {
     "name": "stdout",
     "output_type": "stream",
     "text": [
      "Prediction: [ 5  6  8  4  5  6  0  4  6  7  3  7  7  9  2  2  5  4  8  6 11  0  9  1\n",
      "  3  6  0  1  1  2 11  1  4  3  9  0  6 11  7 10]\n",
      "With KNN (K=8) accuracy is:  0.9\n"
     ]
    }
   ],
   "source": [
    "neigh.fit(X_train,y_train)\n",
    "prediction = neigh.predict(X_test)\n",
    "print('Prediction: {}'.format(prediction))\n",
    "print('With KNN (K=8) accuracy is: ',neigh.score(X_test,y_test))"
   ]
  }
 ],
 "metadata": {
  "kernelspec": {
   "display_name": "Python 3",
   "language": "python",
   "name": "python3"
  },
  "language_info": {
   "codemirror_mode": {
    "name": "ipython",
    "version": 3
   },
   "file_extension": ".py",
   "mimetype": "text/x-python",
   "name": "python",
   "nbconvert_exporter": "python",
   "pygments_lexer": "ipython3",
   "version": "3.8.10"
  }
 },
 "nbformat": 4,
 "nbformat_minor": 4
}
