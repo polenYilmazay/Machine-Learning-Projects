{
 "cells": [
  {
   "cell_type": "code",
   "execution_count": 1,
   "metadata": {},
   "outputs": [],
   "source": [
    "import pandas as pd\n",
    "import numpy as np"
   ]
  },
  {
   "cell_type": "code",
   "execution_count": 2,
   "metadata": {},
   "outputs": [],
   "source": [
    "data = pd.read_csv(\"BreastCancer - KNN.csv\")"
   ]
  },
  {
   "cell_type": "code",
   "execution_count": 3,
   "metadata": {},
   "outputs": [
    {
     "data": {
      "text/html": [
       "<div>\n",
       "<style scoped>\n",
       "    .dataframe tbody tr th:only-of-type {\n",
       "        vertical-align: middle;\n",
       "    }\n",
       "\n",
       "    .dataframe tbody tr th {\n",
       "        vertical-align: top;\n",
       "    }\n",
       "\n",
       "    .dataframe thead th {\n",
       "        text-align: right;\n",
       "    }\n",
       "</style>\n",
       "<table border=\"1\" class=\"dataframe\">\n",
       "  <thead>\n",
       "    <tr style=\"text-align: right;\">\n",
       "      <th></th>\n",
       "      <th>pelvic_incidence</th>\n",
       "      <th>pelvic_tilt numeric</th>\n",
       "      <th>lumbar_lordosis_angle</th>\n",
       "      <th>sacral_slope</th>\n",
       "      <th>pelvic_radius</th>\n",
       "      <th>degree_spondylolisthesis</th>\n",
       "      <th>class</th>\n",
       "    </tr>\n",
       "  </thead>\n",
       "  <tbody>\n",
       "    <tr>\n",
       "      <th>0</th>\n",
       "      <td>63.027818</td>\n",
       "      <td>22.552586</td>\n",
       "      <td>39.609117</td>\n",
       "      <td>40.475232</td>\n",
       "      <td>98.672917</td>\n",
       "      <td>-0.254400</td>\n",
       "      <td>Abnormal</td>\n",
       "    </tr>\n",
       "    <tr>\n",
       "      <th>1</th>\n",
       "      <td>39.056951</td>\n",
       "      <td>10.060991</td>\n",
       "      <td>25.015378</td>\n",
       "      <td>28.995960</td>\n",
       "      <td>114.405425</td>\n",
       "      <td>4.564259</td>\n",
       "      <td>Abnormal</td>\n",
       "    </tr>\n",
       "    <tr>\n",
       "      <th>2</th>\n",
       "      <td>68.832021</td>\n",
       "      <td>22.218482</td>\n",
       "      <td>50.092194</td>\n",
       "      <td>46.613539</td>\n",
       "      <td>105.985135</td>\n",
       "      <td>-3.530317</td>\n",
       "      <td>Abnormal</td>\n",
       "    </tr>\n",
       "    <tr>\n",
       "      <th>3</th>\n",
       "      <td>69.297008</td>\n",
       "      <td>24.652878</td>\n",
       "      <td>44.311238</td>\n",
       "      <td>44.644130</td>\n",
       "      <td>101.868495</td>\n",
       "      <td>11.211523</td>\n",
       "      <td>Abnormal</td>\n",
       "    </tr>\n",
       "    <tr>\n",
       "      <th>4</th>\n",
       "      <td>49.712859</td>\n",
       "      <td>9.652075</td>\n",
       "      <td>28.317406</td>\n",
       "      <td>40.060784</td>\n",
       "      <td>108.168725</td>\n",
       "      <td>7.918501</td>\n",
       "      <td>Abnormal</td>\n",
       "    </tr>\n",
       "  </tbody>\n",
       "</table>\n",
       "</div>"
      ],
      "text/plain": [
       "   pelvic_incidence  pelvic_tilt numeric  lumbar_lordosis_angle  sacral_slope  \\\n",
       "0         63.027818            22.552586              39.609117     40.475232   \n",
       "1         39.056951            10.060991              25.015378     28.995960   \n",
       "2         68.832021            22.218482              50.092194     46.613539   \n",
       "3         69.297008            24.652878              44.311238     44.644130   \n",
       "4         49.712859             9.652075              28.317406     40.060784   \n",
       "\n",
       "   pelvic_radius  degree_spondylolisthesis     class  \n",
       "0      98.672917                 -0.254400  Abnormal  \n",
       "1     114.405425                  4.564259  Abnormal  \n",
       "2     105.985135                 -3.530317  Abnormal  \n",
       "3     101.868495                 11.211523  Abnormal  \n",
       "4     108.168725                  7.918501  Abnormal  "
      ]
     },
     "execution_count": 3,
     "metadata": {},
     "output_type": "execute_result"
    }
   ],
   "source": [
    "data.head()"
   ]
  },
  {
   "cell_type": "code",
   "execution_count": 4,
   "metadata": {},
   "outputs": [
    {
     "data": {
      "text/plain": [
       "pelvic_incidence            float64\n",
       "pelvic_tilt numeric         float64\n",
       "lumbar_lordosis_angle       float64\n",
       "sacral_slope                float64\n",
       "pelvic_radius               float64\n",
       "degree_spondylolisthesis    float64\n",
       "class                        object\n",
       "dtype: object"
      ]
     },
     "execution_count": 4,
     "metadata": {},
     "output_type": "execute_result"
    }
   ],
   "source": [
    "data.dtypes"
   ]
  },
  {
   "cell_type": "code",
   "execution_count": 5,
   "metadata": {},
   "outputs": [],
   "source": [
    "colnames_numeric = data.columns[0:6]"
   ]
  },
  {
   "cell_type": "code",
   "execution_count": 6,
   "metadata": {},
   "outputs": [],
   "source": [
    "from sklearn.preprocessing import MinMaxScaler\n",
    "scaler = MinMaxScaler()\n",
    "data[colnames_numeric] = scaler.fit_transform(data[colnames_numeric])"
   ]
  },
  {
   "cell_type": "code",
   "execution_count": 7,
   "metadata": {},
   "outputs": [
    {
     "data": {
      "text/plain": [
       "(310, 7)"
      ]
     },
     "execution_count": 7,
     "metadata": {},
     "output_type": "execute_result"
    }
   ],
   "source": [
    "data.shape"
   ]
  },
  {
   "cell_type": "code",
   "execution_count": 8,
   "metadata": {},
   "outputs": [],
   "source": [
    "import random\n",
    "def train_test_split(data, split, trainingSet = [], testSet = []):\n",
    "    for x in range(len(data)):\n",
    "        if random.random() < split:\n",
    "            trainingSet.append(data[x])\n",
    "        else:\n",
    "            testSet.append(data[x])"
   ]
  },
  {
   "cell_type": "code",
   "execution_count": 37,
   "metadata": {},
   "outputs": [],
   "source": [
    "df = data.values.tolist()\n",
    "trainingSet = []\n",
    "testSet = []\n",
    "split = 0.66\n",
    "train_test_split(df, split, trainingSet, testSet)"
   ]
  },
  {
   "cell_type": "code",
   "execution_count": 38,
   "metadata": {},
   "outputs": [
    {
     "name": "stdout",
     "output_type": "stream",
     "text": [
      "202\n",
      "108\n"
     ]
    }
   ],
   "source": [
    "print(len(trainingSet))\n",
    "print(len(testSet))"
   ]
  },
  {
   "cell_type": "code",
   "execution_count": 11,
   "metadata": {},
   "outputs": [],
   "source": [
    "import math\n",
    "def Euclideandist(x,xi, length):\n",
    "    d = 0.0\n",
    "    for i in range(length):\n",
    "        d += pow(float(x[i])- float(xi[i]),2)\n",
    "    return math.sqrt(d)"
   ]
  },
  {
   "cell_type": "code",
   "execution_count": 12,
   "metadata": {},
   "outputs": [],
   "source": [
    "import operator\n",
    "def getNeighbors(trainingSet, testInstance, k):\n",
    "    distances = []\n",
    "    length = len(testInstance)-1\n",
    "    for x in range(len(trainingSet)):\n",
    "        dist = Euclideandist(testInstance, trainingSet[x], length)\n",
    "        distances.append((trainingSet[x], dist))\n",
    "    distances.sort(key=operator.itemgetter(1))\n",
    "    neighbors = []\n",
    "    for x in range(k):\n",
    "        neighbors.append(distances[x][0])\n",
    "    return neighbors"
   ]
  },
  {
   "cell_type": "code",
   "execution_count": 13,
   "metadata": {},
   "outputs": [],
   "source": [
    "import operator\n",
    "def getResponse(neighbors):\n",
    "    classVotes = {}\n",
    "    for x in range(len(neighbors)):\n",
    "        response = neighbors[x][-1]\n",
    "        if response in classVotes:\n",
    "            classVotes[response] += 1\n",
    "        else:\n",
    "            classVotes[response] = 1\n",
    "    sortedVotes = sorted(classVotes.items(), key=operator.itemgetter(1), reverse=True)\n",
    "    return sortedVotes[0][0] "
   ]
  },
  {
   "cell_type": "code",
   "execution_count": 14,
   "metadata": {},
   "outputs": [],
   "source": [
    "def getAccuracy(testSet, predictions):\n",
    "    correct = 0\n",
    "    for x in range(len(testSet)):\n",
    "        if testSet[x][-1] == predictions[x]:\n",
    "            correct += 1\n",
    "    return (correct/float(len(testSet))) * 100.0"
   ]
  },
  {
   "cell_type": "code",
   "execution_count": 39,
   "metadata": {},
   "outputs": [
    {
     "name": "stdout",
     "output_type": "stream",
     "text": [
      "> predicted='Abnormal', actual='Abnormal'\n",
      "> predicted='Normal', actual='Abnormal'\n",
      "> predicted='Normal', actual='Abnormal'\n",
      "> predicted='Abnormal', actual='Abnormal'\n",
      "> predicted='Abnormal', actual='Abnormal'\n",
      "> predicted='Abnormal', actual='Abnormal'\n",
      "> predicted='Abnormal', actual='Abnormal'\n",
      "> predicted='Normal', actual='Abnormal'\n",
      "> predicted='Normal', actual='Abnormal'\n",
      "> predicted='Normal', actual='Abnormal'\n",
      "> predicted='Abnormal', actual='Abnormal'\n",
      "> predicted='Abnormal', actual='Abnormal'\n",
      "> predicted='Normal', actual='Abnormal'\n",
      "> predicted='Abnormal', actual='Abnormal'\n",
      "> predicted='Abnormal', actual='Abnormal'\n",
      "> predicted='Normal', actual='Abnormal'\n",
      "> predicted='Abnormal', actual='Abnormal'\n",
      "> predicted='Normal', actual='Abnormal'\n",
      "> predicted='Abnormal', actual='Abnormal'\n",
      "> predicted='Abnormal', actual='Abnormal'\n",
      "> predicted='Abnormal', actual='Abnormal'\n",
      "> predicted='Abnormal', actual='Abnormal'\n",
      "> predicted='Abnormal', actual='Abnormal'\n",
      "> predicted='Normal', actual='Abnormal'\n",
      "> predicted='Normal', actual='Abnormal'\n",
      "> predicted='Abnormal', actual='Abnormal'\n",
      "> predicted='Normal', actual='Abnormal'\n",
      "> predicted='Abnormal', actual='Abnormal'\n",
      "> predicted='Abnormal', actual='Abnormal'\n",
      "> predicted='Abnormal', actual='Abnormal'\n",
      "> predicted='Normal', actual='Abnormal'\n",
      "> predicted='Abnormal', actual='Abnormal'\n",
      "> predicted='Abnormal', actual='Abnormal'\n",
      "> predicted='Abnormal', actual='Abnormal'\n",
      "> predicted='Abnormal', actual='Abnormal'\n",
      "> predicted='Abnormal', actual='Abnormal'\n",
      "> predicted='Abnormal', actual='Abnormal'\n",
      "> predicted='Abnormal', actual='Abnormal'\n",
      "> predicted='Abnormal', actual='Abnormal'\n",
      "> predicted='Normal', actual='Abnormal'\n",
      "> predicted='Abnormal', actual='Abnormal'\n",
      "> predicted='Abnormal', actual='Abnormal'\n",
      "> predicted='Abnormal', actual='Abnormal'\n",
      "> predicted='Abnormal', actual='Abnormal'\n",
      "> predicted='Abnormal', actual='Abnormal'\n",
      "> predicted='Normal', actual='Abnormal'\n",
      "> predicted='Abnormal', actual='Abnormal'\n",
      "> predicted='Abnormal', actual='Abnormal'\n",
      "> predicted='Abnormal', actual='Abnormal'\n",
      "> predicted='Abnormal', actual='Abnormal'\n",
      "> predicted='Abnormal', actual='Abnormal'\n",
      "> predicted='Abnormal', actual='Abnormal'\n",
      "> predicted='Abnormal', actual='Abnormal'\n",
      "> predicted='Abnormal', actual='Abnormal'\n",
      "> predicted='Abnormal', actual='Abnormal'\n",
      "> predicted='Abnormal', actual='Abnormal'\n",
      "> predicted='Abnormal', actual='Abnormal'\n",
      "> predicted='Abnormal', actual='Abnormal'\n",
      "> predicted='Normal', actual='Abnormal'\n",
      "> predicted='Abnormal', actual='Abnormal'\n",
      "> predicted='Abnormal', actual='Abnormal'\n",
      "> predicted='Abnormal', actual='Abnormal'\n",
      "> predicted='Abnormal', actual='Abnormal'\n",
      "> predicted='Abnormal', actual='Abnormal'\n",
      "> predicted='Abnormal', actual='Abnormal'\n",
      "> predicted='Abnormal', actual='Abnormal'\n",
      "> predicted='Abnormal', actual='Abnormal'\n",
      "> predicted='Abnormal', actual='Abnormal'\n",
      "> predicted='Abnormal', actual='Abnormal'\n",
      "> predicted='Abnormal', actual='Abnormal'\n",
      "> predicted='Abnormal', actual='Abnormal'\n",
      "> predicted='Abnormal', actual='Abnormal'\n",
      "> predicted='Abnormal', actual='Abnormal'\n",
      "> predicted='Abnormal', actual='Abnormal'\n",
      "> predicted='Abnormal', actual='Abnormal'\n",
      "> predicted='Abnormal', actual='Abnormal'\n",
      "> predicted='Abnormal', actual='Abnormal'\n",
      "> predicted='Abnormal', actual='Normal'\n",
      "> predicted='Normal', actual='Normal'\n",
      "> predicted='Normal', actual='Normal'\n",
      "> predicted='Normal', actual='Normal'\n",
      "> predicted='Abnormal', actual='Normal'\n",
      "> predicted='Abnormal', actual='Normal'\n",
      "> predicted='Normal', actual='Normal'\n",
      "> predicted='Normal', actual='Normal'\n",
      "> predicted='Abnormal', actual='Normal'\n",
      "> predicted='Normal', actual='Normal'\n",
      "> predicted='Abnormal', actual='Normal'\n",
      "> predicted='Abnormal', actual='Normal'\n",
      "> predicted='Normal', actual='Normal'\n",
      "> predicted='Normal', actual='Normal'\n",
      "> predicted='Normal', actual='Normal'\n",
      "> predicted='Normal', actual='Normal'\n",
      "> predicted='Normal', actual='Normal'\n",
      "> predicted='Normal', actual='Normal'\n",
      "> predicted='Normal', actual='Normal'\n",
      "> predicted='Abnormal', actual='Normal'\n",
      "> predicted='Normal', actual='Normal'\n",
      "> predicted='Normal', actual='Normal'\n",
      "> predicted='Normal', actual='Normal'\n",
      "> predicted='Normal', actual='Normal'\n",
      "> predicted='Abnormal', actual='Normal'\n",
      "> predicted='Normal', actual='Normal'\n",
      "> predicted='Normal', actual='Normal'\n",
      "> predicted='Abnormal', actual='Normal'\n",
      "> predicted='Abnormal', actual='Normal'\n",
      "> predicted='Abnormal', actual='Normal'\n",
      "> predicted='Normal', actual='Normal'\n"
     ]
    }
   ],
   "source": [
    "predictions=[]\n",
    "k = 3\n",
    "for x in range(len(testSet)):\n",
    "    neighbors = getNeighbors(trainingSet, testSet[x], k)\n",
    "    result = getResponse(neighbors)\n",
    "    predictions.append(result)\n",
    "    print('> predicted=' + repr(result) + ', actual=' + repr(testSet[x][-1]))"
   ]
  },
  {
   "cell_type": "code",
   "execution_count": 40,
   "metadata": {},
   "outputs": [
    {
     "name": "stdout",
     "output_type": "stream",
     "text": [
      "Accuracy: 75.92592592592592%\n"
     ]
    }
   ],
   "source": [
    "accuracy = getAccuracy(testSet, predictions)\n",
    "print('Accuracy: ' + repr(accuracy) + '%')"
   ]
  },
  {
   "cell_type": "markdown",
   "metadata": {},
   "source": [
    "## Fonksiyonlar yazılmadan direkt kütüphane üzerinden KNN Hesaplaması"
   ]
  },
  {
   "cell_type": "code",
   "execution_count": 41,
   "metadata": {},
   "outputs": [],
   "source": [
    "trainingSet2 = pd.DataFrame(np.array(trainingSet).reshape(len(trainingSet),7), columns = data.columns)\n",
    "testSet2 = pd.DataFrame(np.array(testSet).reshape(len(testSet),7), columns = data.columns)"
   ]
  },
  {
   "cell_type": "code",
   "execution_count": 42,
   "metadata": {},
   "outputs": [],
   "source": [
    "trainingSet2[colnames_numeric] = trainingSet2[colnames_numeric].apply(pd.to_numeric, errors = 'coerce', axis = 0)"
   ]
  },
  {
   "cell_type": "code",
   "execution_count": 43,
   "metadata": {},
   "outputs": [],
   "source": [
    "from sklearn.neighbors import KNeighborsClassifier\n",
    "knn = KNeighborsClassifier(n_neighbors = 2)\n",
    "x_train,y_train = trainingSet2.loc[:,trainingSet2.columns != 'class'], trainingSet2.loc[:,'class']\n",
    "x_test,y_test = testSet2.loc[:,testSet2.columns != 'class'], testSet2.loc[:,'class']"
   ]
  },
  {
   "cell_type": "code",
   "execution_count": 44,
   "metadata": {},
   "outputs": [
    {
     "data": {
      "text/plain": [
       "array([0.76851852, 0.82407407, 0.75925926, 0.80555556, 0.7962963 ,\n",
       "       0.80555556, 0.82407407, 0.80555556, 0.78703704])"
      ]
     },
     "execution_count": 44,
     "metadata": {},
     "output_type": "execute_result"
    }
   ],
   "source": [
    "from sklearn import metrics\n",
    "Ks = 10\n",
    "\n",
    "mean_acc = np.zeros((Ks-1))\n",
    "std_acc = np.zeros((Ks-1))\n",
    "ConfustionMx = [];\n",
    "for n in range(1,Ks):\n",
    "    \n",
    "    #Train Model and Predict  \n",
    "    neigh = KNeighborsClassifier(n_neighbors = n).fit(x_train,y_train)\n",
    "    yhat=neigh.predict(x_test)\n",
    "    mean_acc[n-1] = metrics.accuracy_score(y_test, yhat)\n",
    "\n",
    "    \n",
    "    std_acc[n-1]=np.std(yhat==y_test)/np.sqrt(yhat.shape[0])\n",
    "\n",
    "mean_acc"
   ]
  },
  {
   "cell_type": "code",
   "execution_count": 45,
   "metadata": {},
   "outputs": [
    {
     "data": {
      "image/png": "[encoded data removed]",
      "text/plain": [
       "<Figure size 432x288 with 1 Axes>"
      ]
     },
     "metadata": {
      "needs_background": "light"
     },
     "output_type": "display_data"
    }
   ],
   "source": [
    "import matplotlib.pyplot as plt\n",
    "plt.plot(range(1,Ks),mean_acc,'g')\n",
    "plt.fill_between(range(1,Ks),mean_acc - 1 * std_acc,mean_acc + 1 * std_acc, alpha=0.10)\n",
    "plt.legend(('Accuracy ', '+/- 3xstd'))\n",
    "plt.ylabel('Accuracy ')\n",
    "plt.xlabel('Number of Nabors (K)')\n",
    "plt.tight_layout()\n",
    "plt.show()"
   ]
  },
  {
   "cell_type": "code",
   "execution_count": 46,
   "metadata": {},
   "outputs": [
    {
     "name": "stdout",
     "output_type": "stream",
     "text": [
      "En yüksek Doğruluk= 0.8240740740740741 K= 2 olduğunda gerçekleşti.\n"
     ]
    }
   ],
   "source": [
    "print( \"En yüksek Doğruluk=\", mean_acc.max(), \"K=\", mean_acc.argmax()+1,\"olduğunda gerçekleşti.\")"
   ]
  },
  {
   "cell_type": "code",
   "execution_count": 47,
   "metadata": {},
   "outputs": [
    {
     "name": "stdout",
     "output_type": "stream",
     "text": [
      "Prediction: ['Abnormal' 'Normal' 'Abnormal' 'Abnormal' 'Abnormal' 'Abnormal'\n",
      " 'Abnormal' 'Abnormal' 'Normal' 'Abnormal' 'Abnormal' 'Abnormal'\n",
      " 'Abnormal' 'Abnormal' 'Abnormal' 'Abnormal' 'Abnormal' 'Normal'\n",
      " 'Abnormal' 'Abnormal' 'Abnormal' 'Abnormal' 'Abnormal' 'Normal'\n",
      " 'Abnormal' 'Abnormal' 'Abnormal' 'Abnormal' 'Abnormal' 'Abnormal'\n",
      " 'Normal' 'Abnormal' 'Abnormal' 'Abnormal' 'Abnormal' 'Abnormal'\n",
      " 'Abnormal' 'Abnormal' 'Abnormal' 'Abnormal' 'Abnormal' 'Abnormal'\n",
      " 'Abnormal' 'Abnormal' 'Abnormal' 'Abnormal' 'Abnormal' 'Abnormal'\n",
      " 'Abnormal' 'Abnormal' 'Abnormal' 'Abnormal' 'Abnormal' 'Abnormal'\n",
      " 'Abnormal' 'Abnormal' 'Abnormal' 'Abnormal' 'Abnormal' 'Abnormal'\n",
      " 'Abnormal' 'Abnormal' 'Abnormal' 'Abnormal' 'Abnormal' 'Abnormal'\n",
      " 'Abnormal' 'Abnormal' 'Abnormal' 'Abnormal' 'Abnormal' 'Abnormal'\n",
      " 'Abnormal' 'Abnormal' 'Abnormal' 'Abnormal' 'Abnormal' 'Abnormal'\n",
      " 'Normal' 'Normal' 'Normal' 'Abnormal' 'Abnormal' 'Normal' 'Normal'\n",
      " 'Abnormal' 'Normal' 'Abnormal' 'Abnormal' 'Normal' 'Abnormal' 'Abnormal'\n",
      " 'Normal' 'Normal' 'Normal' 'Normal' 'Abnormal' 'Normal' 'Normal' 'Normal'\n",
      " 'Normal' 'Abnormal' 'Abnormal' 'Normal' 'Abnormal' 'Abnormal' 'Abnormal'\n",
      " 'Normal']\n",
      "With KNN (K=2) accuracy is:  0.8240740740740741\n"
     ]
    }
   ],
   "source": [
    "knn.fit(x_train,y_train)\n",
    "prediction = knn.predict(x_test)\n",
    "print('Prediction: {}'.format(prediction))\n",
    "print('With KNN (K=2) accuracy is: ',knn.score(x_test,y_test))"
   ]
  }
 ],
 "metadata": {
  "kernelspec": {
   "display_name": "Python 3",
   "language": "python",
   "name": "python3"
  },
  "language_info": {
   "codemirror_mode": {
    "name": "ipython",
    "version": 3
   },
   "file_extension": ".py",
   "mimetype": "text/x-python",
   "name": "python",
   "nbconvert_exporter": "python",
   "pygments_lexer": "ipython3",
   "version": "3.8.10"
  }
 },
 "nbformat": 4,
 "nbformat_minor": 4
}
